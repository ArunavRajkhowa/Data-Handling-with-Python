{
 "cells": [
  {
   "cell_type": "markdown",
   "id": "32fe4262",
   "metadata": {},
   "source": [
    "\n",
    "a. creating nd arrays\n",
    "\n",
    "b. subsetting with indicws and conditions\n",
    "\n",
    "c.comparison with np and math functions (np.sqrt, log), special numpy functions"
   ]
  },
  {
   "cell_type": "code",
   "execution_count": 1,
   "id": "e6ac33e6",
   "metadata": {},
   "outputs": [],
   "source": [
    "import numpy as np"
   ]
  },
  {
   "cell_type": "code",
   "execution_count": 3,
   "id": "bfa08799",
   "metadata": {},
   "outputs": [
    {
     "data": {
      "text/plain": [
       "array([[3, 4, 5],\n",
       "       [4, 5, 6],\n",
       "       [6, 7, 8],\n",
       "       [7, 8, 9]])"
      ]
     },
     "execution_count": 3,
     "metadata": {},
     "output_type": "execute_result"
    }
   ],
   "source": [
    "b=np.array([  [3,4,5],[4,5,6],[6,7,8],[7,8,9]  ])\n",
    "b"
   ]
  },
  {
   "cell_type": "code",
   "execution_count": 5,
   "id": "5906fbf7",
   "metadata": {},
   "outputs": [
    {
     "data": {
      "text/plain": [
       "(4, 3)"
      ]
     },
     "execution_count": 5,
     "metadata": {},
     "output_type": "execute_result"
    }
   ],
   "source": [
    "b.shape"
   ]
  },
  {
   "cell_type": "code",
   "execution_count": 9,
   "id": "bcfb82b8",
   "metadata": {},
   "outputs": [
    {
     "name": "stderr",
     "output_type": "stream",
     "text": [
      "C:\\Users\\aruna\\AppData\\Local\\Temp\\ipykernel_1292\\274666058.py:2: VisibleDeprecationWarning: Creating an ndarray from ragged nested sequences (which is a list-or-tuple of lists-or-tuples-or ndarrays with different lengths or shapes) is deprecated. If you meant to do this, you must specify 'dtype=object' when creating the ndarray.\n",
      "  c=np.array([  [3,5],[4,5,6],[6],[7,8,9]  ])\n"
     ]
    },
    {
     "data": {
      "text/plain": [
       "array([list([3, 5]), list([4, 5, 6]), list([6]), list([7, 8, 9])],\n",
       "      dtype=object)"
      ]
     },
     "execution_count": 9,
     "metadata": {},
     "output_type": "execute_result"
    }
   ],
   "source": [
    "#assymetric arrays\n",
    "c=np.array([  [3,5],[4,5,6],[6],[7,8,9]  ])\n",
    "c"
   ]
  },
  {
   "cell_type": "code",
   "execution_count": 10,
   "id": "71745c79",
   "metadata": {},
   "outputs": [
    {
     "data": {
      "text/plain": [
       "(4,)"
      ]
     },
     "execution_count": 10,
     "metadata": {},
     "output_type": "execute_result"
    }
   ],
   "source": [
    "c.shape "
   ]
  },
  {
   "cell_type": "markdown",
   "id": "2083fb9a",
   "metadata": {},
   "source": [
    "## extracting elements and indice operations"
   ]
  },
  {
   "cell_type": "code",
   "execution_count": 42,
   "id": "404afcb0",
   "metadata": {},
   "outputs": [
    {
     "data": {
      "text/plain": [
       "array([[  3,   4, -99],\n",
       "       [  4,   5,  99],\n",
       "       [  6,   0,   8],\n",
       "       [  7,   8,   9]])"
      ]
     },
     "execution_count": 42,
     "metadata": {},
     "output_type": "execute_result"
    }
   ],
   "source": [
    "b"
   ]
  },
  {
   "cell_type": "code",
   "execution_count": 43,
   "id": "59930178",
   "metadata": {},
   "outputs": [
    {
     "data": {
      "text/plain": [
       "0"
      ]
     },
     "execution_count": 43,
     "metadata": {},
     "output_type": "execute_result"
    }
   ],
   "source": [
    "#extracting elements\n",
    "b[2,1]"
   ]
  },
  {
   "cell_type": "code",
   "execution_count": 44,
   "id": "6a52ec11",
   "metadata": {},
   "outputs": [
    {
     "data": {
      "text/plain": [
       "array([4, 5, 0, 8])"
      ]
     },
     "execution_count": 44,
     "metadata": {},
     "output_type": "execute_result"
    }
   ],
   "source": [
    "b[:,1]"
   ]
  },
  {
   "cell_type": "code",
   "execution_count": 45,
   "id": "28273d7a",
   "metadata": {},
   "outputs": [
    {
     "data": {
      "text/plain": [
       "array([ 4,  5, 99])"
      ]
     },
     "execution_count": 45,
     "metadata": {},
     "output_type": "execute_result"
    }
   ],
   "source": [
    "b[1]"
   ]
  },
  {
   "cell_type": "code",
   "execution_count": 46,
   "id": "577a9779",
   "metadata": {},
   "outputs": [
    {
     "data": {
      "text/plain": [
       "array([-99,   0,  99])"
      ]
     },
     "execution_count": 46,
     "metadata": {},
     "output_type": "execute_result"
    }
   ],
   "source": [
    "b[[0,2,1],[2,1,2]] #will get paired [0,2],[2,1],[1,2]\n",
    "#multiple indices not possible in lists"
   ]
  },
  {
   "cell_type": "code",
   "execution_count": 47,
   "id": "3185a277",
   "metadata": {},
   "outputs": [
    {
     "data": {
      "text/plain": [
       "array([[  3,   4, -99],\n",
       "       [  4,   5, -99],\n",
       "       [  6,   0,   8],\n",
       "       [  7,   8,   9]])"
      ]
     },
     "execution_count": 47,
     "metadata": {},
     "output_type": "execute_result"
    }
   ],
   "source": [
    "b[[0,2,1],[2,1,2]] = [-99,0,-99]\n",
    "b"
   ]
  },
  {
   "cell_type": "code",
   "execution_count": 48,
   "id": "3cd6670d",
   "metadata": {},
   "outputs": [
    {
     "data": {
      "text/plain": [
       "array([[ True,  True, False],\n",
       "       [ True,  True, False],\n",
       "       [ True, False,  True],\n",
       "       [ True,  True,  True]])"
      ]
     },
     "execution_count": 48,
     "metadata": {},
     "output_type": "execute_result"
    }
   ],
   "source": [
    "b>0"
   ]
  },
  {
   "cell_type": "code",
   "execution_count": 49,
   "id": "ffe9b769",
   "metadata": {},
   "outputs": [
    {
     "data": {
      "text/plain": [
       "array([3, 4, 4, 5, 6, 8, 7, 8, 9])"
      ]
     },
     "execution_count": 49,
     "metadata": {},
     "output_type": "execute_result"
    }
   ],
   "source": [
    "b[b>0] #returns all the numbers after indivudual check of elements with condition"
   ]
  },
  {
   "cell_type": "code",
   "execution_count": 50,
   "id": "ad9e7f30",
   "metadata": {},
   "outputs": [
    {
     "data": {
      "text/plain": [
       "array([False, False,  True,  True])"
      ]
     },
     "execution_count": 50,
     "metadata": {},
     "output_type": "execute_result"
    }
   ],
   "source": [
    "b[:,2]>=0"
   ]
  },
  {
   "cell_type": "code",
   "execution_count": 51,
   "id": "c4087178",
   "metadata": {},
   "outputs": [
    {
     "name": "stdout",
     "output_type": "stream",
     "text": [
      "[[  3   4 -99]\n",
      " [  4   5 -99]\n",
      " [  6   0   8]\n",
      " [  7   8   9]]\n"
     ]
    },
    {
     "data": {
      "text/plain": [
       "array([[6, 0, 8],\n",
       "       [7, 8, 9]])"
      ]
     },
     "execution_count": 51,
     "metadata": {},
     "output_type": "execute_result"
    }
   ],
   "source": [
    "print(b)\n",
    "b[b[:,2]>=0,:] #these type of things are much easier in pandas"
   ]
  },
  {
   "cell_type": "markdown",
   "id": "d8f1e152",
   "metadata": {},
   "source": [
    "## Math functions\n",
    "\n",
    "Math functions only work for single values and not for arrays. \n",
    "There are numpy counter parts which solve this problem"
   ]
  },
  {
   "cell_type": "code",
   "execution_count": 52,
   "id": "0b9dcf1c",
   "metadata": {},
   "outputs": [],
   "source": [
    "import math as m\n",
    "\n"
   ]
  },
  {
   "cell_type": "code",
   "execution_count": 53,
   "id": "a1c07a3f",
   "metadata": {},
   "outputs": [
    {
     "ename": "TypeError",
     "evalue": "only size-1 arrays can be converted to Python scalars",
     "output_type": "error",
     "traceback": [
      "\u001b[1;31m---------------------------------------------------------------------------\u001b[0m",
      "\u001b[1;31mTypeError\u001b[0m                                 Traceback (most recent call last)",
      "Input \u001b[1;32mIn [53]\u001b[0m, in \u001b[0;36m<module>\u001b[1;34m\u001b[0m\n\u001b[1;32m----> 1\u001b[0m b[\u001b[38;5;241m1\u001b[39m]\u001b[38;5;241m=\u001b[39m\u001b[43mm\u001b[49m\u001b[38;5;241;43m.\u001b[39;49m\u001b[43mfabs\u001b[49m\u001b[43m(\u001b[49m\u001b[43mb\u001b[49m\u001b[43m[\u001b[49m\u001b[38;5;241;43m1\u001b[39;49m\u001b[43m]\u001b[49m\u001b[43m)\u001b[49m\n",
      "\u001b[1;31mTypeError\u001b[0m: only size-1 arrays can be converted to Python scalars"
     ]
    }
   ],
   "source": [
    "b[1]=m.fabs(b[1])"
   ]
  },
  {
   "cell_type": "code",
   "execution_count": 58,
   "id": "9d060b3d",
   "metadata": {},
   "outputs": [
    {
     "name": "stdout",
     "output_type": "stream",
     "text": [
      "[[  3   4 -99]\n",
      " [  4   5  99]\n",
      " [  6   0   8]\n",
      " [  7   8   9]]\n"
     ]
    },
    {
     "data": {
      "text/plain": [
       "array([ 4,  5, 99])"
      ]
     },
     "execution_count": 58,
     "metadata": {},
     "output_type": "execute_result"
    }
   ],
   "source": [
    "print(b)\n",
    "b[1]=np.fabs(b[1])\n",
    "b[1]"
   ]
  },
  {
   "cell_type": "code",
   "execution_count": 59,
   "id": "99fc4748",
   "metadata": {},
   "outputs": [
    {
     "data": {
      "text/plain": [
       "54"
      ]
     },
     "execution_count": 59,
     "metadata": {},
     "output_type": "execute_result"
    }
   ],
   "source": [
    "np.sum(b)"
   ]
  },
  {
   "cell_type": "code",
   "execution_count": 60,
   "id": "e6c1e860",
   "metadata": {},
   "outputs": [
    {
     "data": {
      "text/plain": [
       "array([-92, 108,  14,  24])"
      ]
     },
     "execution_count": 60,
     "metadata": {},
     "output_type": "execute_result"
    }
   ],
   "source": [
    "#row sums\n",
    "np.sum(b,axis=1) "
   ]
  },
  {
   "cell_type": "code",
   "execution_count": 61,
   "id": "12a22f64",
   "metadata": {},
   "outputs": [
    {
     "data": {
      "text/plain": [
       "array([20, 17, 17])"
      ]
     },
     "execution_count": 61,
     "metadata": {},
     "output_type": "execute_result"
    }
   ],
   "source": [
    "#column sums\n",
    "np.sum(b,axis=0) "
   ]
  },
  {
   "cell_type": "markdown",
   "id": "391fdafb",
   "metadata": {},
   "source": [
    "## generating data "
   ]
  },
  {
   "cell_type": "code",
   "execution_count": 62,
   "id": "85327079",
   "metadata": {},
   "outputs": [
    {
     "data": {
      "text/plain": [
       "array([0, 1, 2, 3, 4, 5])"
      ]
     },
     "execution_count": 62,
     "metadata": {},
     "output_type": "execute_result"
    }
   ],
   "source": [
    "np.arange(6)"
   ]
  },
  {
   "cell_type": "code",
   "execution_count": 63,
   "id": "8ef3a733",
   "metadata": {},
   "outputs": [
    {
     "name": "stdout",
     "output_type": "stream",
     "text": [
      "0\n",
      "1\n",
      "2\n",
      "3\n",
      "4\n",
      "5\n"
     ]
    }
   ],
   "source": [
    "for i in np.arange(6):\n",
    "    print (i)"
   ]
  },
  {
   "cell_type": "code",
   "execution_count": 67,
   "id": "6ad44345",
   "metadata": {},
   "outputs": [
    {
     "data": {
      "text/plain": [
       "array([1.        , 1.33333333, 1.66666667, 2.        , 2.33333333,\n",
       "       2.66666667, 3.        , 3.33333333, 3.66666667, 4.        ])"
      ]
     },
     "execution_count": 67,
     "metadata": {},
     "output_type": "execute_result"
    }
   ],
   "source": [
    "np.linspace(start=1,stop=4,num=10)"
   ]
  },
  {
   "cell_type": "markdown",
   "id": "bb8cef72",
   "metadata": {},
   "source": [
    "## generating random data"
   ]
  },
  {
   "cell_type": "code",
   "execution_count": null,
   "id": "6ee5e017",
   "metadata": {},
   "outputs": [],
   "source": []
  }
 ],
 "metadata": {
  "kernelspec": {
   "display_name": "Python 3 (ipykernel)",
   "language": "python",
   "name": "python3"
  },
  "language_info": {
   "codemirror_mode": {
    "name": "ipython",
    "version": 3
   },
   "file_extension": ".py",
   "mimetype": "text/x-python",
   "name": "python",
   "nbconvert_exporter": "python",
   "pygments_lexer": "ipython3",
   "version": "3.10.0"
  }
 },
 "nbformat": 4,
 "nbformat_minor": 5
}
