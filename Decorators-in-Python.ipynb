{
 "cells": [
  {
   "cell_type": "markdown",
   "id": "0962171b",
   "metadata": {},
   "source": [
    "# Decorators in python"
   ]
  },
  {
   "cell_type": "code",
   "execution_count": 1,
   "id": "b7d451ca",
   "metadata": {},
   "outputs": [],
   "source": [
    " def f1(x,y):\n",
    "        return(x+y)\n",
    "def f2(x,y):\n",
    "    return (x-y)"
   ]
  },
  {
   "cell_type": "code",
   "execution_count": 2,
   "id": "70ba9bc3",
   "metadata": {},
   "outputs": [],
   "source": [
    "def f3(abc,xyz,x,y):\n",
    "    s1 = abc(x,y)\n",
    "    s2 = xyz(x,y)\n",
    "    \n",
    "    return (s1/s2)"
   ]
  },
  {
   "cell_type": "code",
   "execution_count": 4,
   "id": "506851eb",
   "metadata": {},
   "outputs": [
    {
     "data": {
      "text/plain": [
       "1.0"
      ]
     },
     "execution_count": 4,
     "metadata": {},
     "output_type": "execute_result"
    }
   ],
   "source": [
    "f3(abc=f1,xyz=f1,x=10,y=5) "
   ]
  },
  {
   "cell_type": "code",
   "execution_count": 5,
   "id": "17cab393",
   "metadata": {},
   "outputs": [
    {
     "data": {
      "text/plain": [
       "3.0"
      ]
     },
     "execution_count": 5,
     "metadata": {},
     "output_type": "execute_result"
    }
   ],
   "source": [
    "f3(f1,f2,10,5)"
   ]
  },
  {
   "cell_type": "code",
   "execution_count": 7,
   "id": "6d80efa5",
   "metadata": {},
   "outputs": [],
   "source": [
    "def mymax(*x):\n",
    "    m=-float('inf')\n",
    "    \n",
    "    for i in x:\n",
    "        if i>m:\n",
    "            m=i\n",
    "    return m\n",
    "            "
   ]
  },
  {
   "cell_type": "code",
   "execution_count": 12,
   "id": "8bb9b0b6",
   "metadata": {},
   "outputs": [
    {
     "name": "stdout",
     "output_type": "stream",
     "text": [
      "99999305\n",
      "0.03166627883911133\n"
     ]
    }
   ],
   "source": [
    "## timimg a functions runtime\n",
    "\n",
    "import time\n",
    "import numpy as np\n",
    "\n",
    "start=time.time()\n",
    "print (mymax(*np.random.randint(1,100000000,100000)))\n",
    "end =time.time()\n",
    "print(end-start)"
   ]
  },
  {
   "cell_type": "code",
   "execution_count": 13,
   "id": "95d2a3c8",
   "metadata": {},
   "outputs": [],
   "source": [
    "#if we want to merge the above two blocks work as a single function call.\n"
   ]
  },
  {
   "cell_type": "code",
   "execution_count": 14,
   "id": "f04a3836",
   "metadata": {},
   "outputs": [],
   "source": [
    "def time_it(func):\n",
    "    \n",
    "    def inner(*x):\n",
    "        start=time.time()\n",
    "        k=func(*x) #argument ->mymax() \n",
    "        end=time.time()\n",
    "        \n",
    "        print('time taken:',end-start)\n",
    "        return k\n",
    "        \n",
    "    return inner "
   ]
  },
  {
   "cell_type": "code",
   "execution_count": 18,
   "id": "7c7959c4",
   "metadata": {},
   "outputs": [
    {
     "name": "stdout",
     "output_type": "stream",
     "text": [
      "<function time_it.<locals>.inner at 0x000002143F67FF40>\n"
     ]
    }
   ],
   "source": [
    "time=time_it(mymax)\n",
    "print(time)"
   ]
  },
  {
   "cell_type": "code",
   "execution_count": 16,
   "id": "055ff155",
   "metadata": {},
   "outputs": [
    {
     "data": {
      "text/plain": [
       "<function __main__.time_it.<locals>.inner(*x)>"
      ]
     },
     "execution_count": 16,
     "metadata": {},
     "output_type": "execute_result"
    }
   ],
   "source": [
    "time"
   ]
  },
  {
   "cell_type": "code",
   "execution_count": 19,
   "id": "f91abb8f",
   "metadata": {},
   "outputs": [],
   "source": [
    "#the above function looks very compicated and hard to comprehend\n",
    "#to facilate this decoraters are used with @ sign"
   ]
  },
  {
   "cell_type": "code",
   "execution_count": 20,
   "id": "58232269",
   "metadata": {},
   "outputs": [],
   "source": [
    "@time_it\n",
    "\n",
    "def mymax_timed(*x):\n",
    "    m=-float('inf')\n",
    "    \n",
    "    for i in x:\n",
    "        if i>m:\n",
    "            m=i\n",
    "    return m    "
   ]
  },
  {
   "cell_type": "code",
   "execution_count": 21,
   "id": "93f8eda3",
   "metadata": {},
   "outputs": [
    {
     "ename": "AttributeError",
     "evalue": "'function' object has no attribute 'time'",
     "output_type": "error",
     "traceback": [
      "\u001b[1;31m---------------------------------------------------------------------------\u001b[0m",
      "\u001b[1;31mAttributeError\u001b[0m                            Traceback (most recent call last)",
      "Input \u001b[1;32mIn [21]\u001b[0m, in \u001b[0;36m<module>\u001b[1;34m\u001b[0m\n\u001b[1;32m----> 1\u001b[0m \u001b[43mmymax_timed\u001b[49m\u001b[43m(\u001b[49m\u001b[38;5;241;43m*\u001b[39;49m\u001b[43mnp\u001b[49m\u001b[38;5;241;43m.\u001b[39;49m\u001b[43mrandom\u001b[49m\u001b[38;5;241;43m.\u001b[39;49m\u001b[43mrandint\u001b[49m\u001b[43m(\u001b[49m\u001b[38;5;241;43m1\u001b[39;49m\u001b[43m,\u001b[49m\u001b[38;5;241;43m100000000\u001b[39;49m\u001b[43m,\u001b[49m\u001b[38;5;241;43m100000\u001b[39;49m\u001b[43m)\u001b[49m\u001b[43m)\u001b[49m\n",
      "Input \u001b[1;32mIn [14]\u001b[0m, in \u001b[0;36mtime_it.<locals>.inner\u001b[1;34m(*x)\u001b[0m\n\u001b[0;32m      3\u001b[0m \u001b[38;5;28;01mdef\u001b[39;00m \u001b[38;5;21minner\u001b[39m(\u001b[38;5;241m*\u001b[39mx):\n\u001b[1;32m----> 4\u001b[0m     start\u001b[38;5;241m=\u001b[39m\u001b[43mtime\u001b[49m\u001b[38;5;241;43m.\u001b[39;49m\u001b[43mtime\u001b[49m()\n\u001b[0;32m      5\u001b[0m     k\u001b[38;5;241m=\u001b[39mfunc(\u001b[38;5;241m*\u001b[39mx) \u001b[38;5;66;03m#argument \u001b[39;00m\n\u001b[0;32m      6\u001b[0m     end\u001b[38;5;241m=\u001b[39mtime\u001b[38;5;241m.\u001b[39mtime()\n",
      "\u001b[1;31mAttributeError\u001b[0m: 'function' object has no attribute 'time'"
     ]
    }
   ],
   "source": [
    "mymax_timed(*np.random.randint(1,100000000,100000))"
   ]
  },
  {
   "cell_type": "code",
   "execution_count": null,
   "id": "d38fca1e",
   "metadata": {},
   "outputs": [],
   "source": []
  }
 ],
 "metadata": {
  "kernelspec": {
   "display_name": "Python 3 (ipykernel)",
   "language": "python",
   "name": "python3"
  },
  "language_info": {
   "codemirror_mode": {
    "name": "ipython",
    "version": 3
   },
   "file_extension": ".py",
   "mimetype": "text/x-python",
   "name": "python",
   "nbconvert_exporter": "python",
   "pygments_lexer": "ipython3",
   "version": "3.10.0"
  }
 },
 "nbformat": 4,
 "nbformat_minor": 5
}
