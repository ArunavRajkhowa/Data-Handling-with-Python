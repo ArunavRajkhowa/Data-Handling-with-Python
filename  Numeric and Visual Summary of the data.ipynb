{
 "cells": [
  {
   "cell_type": "code",
   "execution_count": 1,
   "id": "56a64933",
   "metadata": {},
   "outputs": [],
   "source": [
    "import pandas as pd\n",
    "import numpy as np\n"
   ]
  },
  {
   "cell_type": "code",
   "execution_count": 2,
   "id": "07464943",
   "metadata": {},
   "outputs": [],
   "source": [
    "file=r\"D:\\IITK Data Analytics\\Python Data Analytics\\Course work\\Data Handling\\Data-Handling-with-Python\\data\\bank-full.csv\""
   ]
  },
  {
   "cell_type": "code",
   "execution_count": 3,
   "id": "5e92e7ae",
   "metadata": {},
   "outputs": [],
   "source": [
    "df=pd.read_csv(file,delimiter=';')"
   ]
  },
  {
   "cell_type": "code",
   "execution_count": 4,
   "id": "4c8f45f1",
   "metadata": {},
   "outputs": [
    {
     "data": {
      "text/html": [
       "<div><div id=a4901851-c7ab-4631-92b5-c1e365a98090 style=\"display:none; background-color:#9D6CFF; color:white; width:200px; height:30px; padding-left:5px; border-radius:4px; flex-direction:row; justify-content:space-around; align-items:center;\" onmouseover=\"this.style.backgroundColor='#BA9BF8'\" onmouseout=\"this.style.backgroundColor='#9D6CFF'\" onclick=\"window.commands?.execute('create-mitosheet-from-dataframe-output');\">See Full Dataframe in Mito</div> <script> if (window.commands?.hasCommand('create-mitosheet-from-dataframe-output')) document.getElementById('a4901851-c7ab-4631-92b5-c1e365a98090').style.display = 'flex' </script> <table border=\"1\" class=\"dataframe\">\n",
       "  <thead>\n",
       "    <tr style=\"text-align: right;\">\n",
       "      <th></th>\n",
       "      <th>age</th>\n",
       "      <th>job</th>\n",
       "      <th>marital</th>\n",
       "      <th>education</th>\n",
       "      <th>default</th>\n",
       "      <th>balance</th>\n",
       "      <th>housing</th>\n",
       "      <th>loan</th>\n",
       "      <th>contact</th>\n",
       "      <th>day</th>\n",
       "      <th>month</th>\n",
       "      <th>duration</th>\n",
       "      <th>campaign</th>\n",
       "      <th>pdays</th>\n",
       "      <th>previous</th>\n",
       "      <th>poutcome</th>\n",
       "      <th>y</th>\n",
       "    </tr>\n",
       "  </thead>\n",
       "  <tbody>\n",
       "    <tr>\n",
       "      <th>0</th>\n",
       "      <td>58</td>\n",
       "      <td>management</td>\n",
       "      <td>married</td>\n",
       "      <td>tertiary</td>\n",
       "      <td>no</td>\n",
       "      <td>2143</td>\n",
       "      <td>yes</td>\n",
       "      <td>no</td>\n",
       "      <td>unknown</td>\n",
       "      <td>5</td>\n",
       "      <td>may</td>\n",
       "      <td>261</td>\n",
       "      <td>1</td>\n",
       "      <td>-1</td>\n",
       "      <td>0</td>\n",
       "      <td>unknown</td>\n",
       "      <td>no</td>\n",
       "    </tr>\n",
       "    <tr>\n",
       "      <th>1</th>\n",
       "      <td>44</td>\n",
       "      <td>technician</td>\n",
       "      <td>single</td>\n",
       "      <td>secondary</td>\n",
       "      <td>no</td>\n",
       "      <td>29</td>\n",
       "      <td>yes</td>\n",
       "      <td>no</td>\n",
       "      <td>unknown</td>\n",
       "      <td>5</td>\n",
       "      <td>may</td>\n",
       "      <td>151</td>\n",
       "      <td>1</td>\n",
       "      <td>-1</td>\n",
       "      <td>0</td>\n",
       "      <td>unknown</td>\n",
       "      <td>no</td>\n",
       "    </tr>\n",
       "    <tr>\n",
       "      <th>2</th>\n",
       "      <td>33</td>\n",
       "      <td>entrepreneur</td>\n",
       "      <td>married</td>\n",
       "      <td>secondary</td>\n",
       "      <td>no</td>\n",
       "      <td>2</td>\n",
       "      <td>yes</td>\n",
       "      <td>yes</td>\n",
       "      <td>unknown</td>\n",
       "      <td>5</td>\n",
       "      <td>may</td>\n",
       "      <td>76</td>\n",
       "      <td>1</td>\n",
       "      <td>-1</td>\n",
       "      <td>0</td>\n",
       "      <td>unknown</td>\n",
       "      <td>no</td>\n",
       "    </tr>\n",
       "    <tr>\n",
       "      <th>3</th>\n",
       "      <td>47</td>\n",
       "      <td>blue-collar</td>\n",
       "      <td>married</td>\n",
       "      <td>unknown</td>\n",
       "      <td>no</td>\n",
       "      <td>1506</td>\n",
       "      <td>yes</td>\n",
       "      <td>no</td>\n",
       "      <td>unknown</td>\n",
       "      <td>5</td>\n",
       "      <td>may</td>\n",
       "      <td>92</td>\n",
       "      <td>1</td>\n",
       "      <td>-1</td>\n",
       "      <td>0</td>\n",
       "      <td>unknown</td>\n",
       "      <td>no</td>\n",
       "    </tr>\n",
       "    <tr>\n",
       "      <th>4</th>\n",
       "      <td>33</td>\n",
       "      <td>unknown</td>\n",
       "      <td>single</td>\n",
       "      <td>unknown</td>\n",
       "      <td>no</td>\n",
       "      <td>1</td>\n",
       "      <td>no</td>\n",
       "      <td>no</td>\n",
       "      <td>unknown</td>\n",
       "      <td>5</td>\n",
       "      <td>may</td>\n",
       "      <td>198</td>\n",
       "      <td>1</td>\n",
       "      <td>-1</td>\n",
       "      <td>0</td>\n",
       "      <td>unknown</td>\n",
       "      <td>no</td>\n",
       "    </tr>\n",
       "  </tbody>\n",
       "</table></div>"
      ],
      "text/plain": [
       "   age           job  marital  education default  balance housing loan  \\\n",
       "0   58    management  married   tertiary      no     2143     yes   no   \n",
       "1   44    technician   single  secondary      no       29     yes   no   \n",
       "2   33  entrepreneur  married  secondary      no        2     yes  yes   \n",
       "3   47   blue-collar  married    unknown      no     1506     yes   no   \n",
       "4   33       unknown   single    unknown      no        1      no   no   \n",
       "\n",
       "   contact  day month  duration  campaign  pdays  previous poutcome   y  \n",
       "0  unknown    5   may       261         1     -1         0  unknown  no  \n",
       "1  unknown    5   may       151         1     -1         0  unknown  no  \n",
       "2  unknown    5   may        76         1     -1         0  unknown  no  \n",
       "3  unknown    5   may        92         1     -1         0  unknown  no  \n",
       "4  unknown    5   may       198         1     -1         0  unknown  no  "
      ]
     },
     "execution_count": 4,
     "metadata": {},
     "output_type": "execute_result"
    }
   ],
   "source": [
    "df.head()"
   ]
  },
  {
   "cell_type": "code",
   "execution_count": 5,
   "id": "05fdd12a",
   "metadata": {},
   "outputs": [
    {
     "data": {
      "text/html": [
       "<div><div id=777f2d2b-2ca0-4a22-bfa2-64cd13b3c778 style=\"display:none; background-color:#9D6CFF; color:white; width:200px; height:30px; padding-left:5px; border-radius:4px; flex-direction:row; justify-content:space-around; align-items:center;\" onmouseover=\"this.style.backgroundColor='#BA9BF8'\" onmouseout=\"this.style.backgroundColor='#9D6CFF'\" onclick=\"window.commands?.execute('create-mitosheet-from-dataframe-output');\">See Full Dataframe in Mito</div> <script> if (window.commands?.hasCommand('create-mitosheet-from-dataframe-output')) document.getElementById('777f2d2b-2ca0-4a22-bfa2-64cd13b3c778').style.display = 'flex' </script> <table border=\"1\" class=\"dataframe\">\n",
       "  <thead>\n",
       "    <tr style=\"text-align: right;\">\n",
       "      <th></th>\n",
       "      <th>age</th>\n",
       "      <th>balance</th>\n",
       "      <th>day</th>\n",
       "      <th>duration</th>\n",
       "      <th>campaign</th>\n",
       "      <th>pdays</th>\n",
       "      <th>previous</th>\n",
       "    </tr>\n",
       "  </thead>\n",
       "  <tbody>\n",
       "    <tr>\n",
       "      <th>count</th>\n",
       "      <td>45211.000000</td>\n",
       "      <td>45211.000000</td>\n",
       "      <td>45211.000000</td>\n",
       "      <td>45211.000000</td>\n",
       "      <td>45211.000000</td>\n",
       "      <td>45211.000000</td>\n",
       "      <td>45211.000000</td>\n",
       "    </tr>\n",
       "    <tr>\n",
       "      <th>mean</th>\n",
       "      <td>40.936210</td>\n",
       "      <td>1362.272058</td>\n",
       "      <td>15.806419</td>\n",
       "      <td>258.163080</td>\n",
       "      <td>2.763841</td>\n",
       "      <td>40.197828</td>\n",
       "      <td>0.580323</td>\n",
       "    </tr>\n",
       "    <tr>\n",
       "      <th>std</th>\n",
       "      <td>10.618762</td>\n",
       "      <td>3044.765829</td>\n",
       "      <td>8.322476</td>\n",
       "      <td>257.527812</td>\n",
       "      <td>3.098021</td>\n",
       "      <td>100.128746</td>\n",
       "      <td>2.303441</td>\n",
       "    </tr>\n",
       "    <tr>\n",
       "      <th>min</th>\n",
       "      <td>18.000000</td>\n",
       "      <td>-8019.000000</td>\n",
       "      <td>1.000000</td>\n",
       "      <td>0.000000</td>\n",
       "      <td>1.000000</td>\n",
       "      <td>-1.000000</td>\n",
       "      <td>0.000000</td>\n",
       "    </tr>\n",
       "    <tr>\n",
       "      <th>25%</th>\n",
       "      <td>33.000000</td>\n",
       "      <td>72.000000</td>\n",
       "      <td>8.000000</td>\n",
       "      <td>103.000000</td>\n",
       "      <td>1.000000</td>\n",
       "      <td>-1.000000</td>\n",
       "      <td>0.000000</td>\n",
       "    </tr>\n",
       "    <tr>\n",
       "      <th>50%</th>\n",
       "      <td>39.000000</td>\n",
       "      <td>448.000000</td>\n",
       "      <td>16.000000</td>\n",
       "      <td>180.000000</td>\n",
       "      <td>2.000000</td>\n",
       "      <td>-1.000000</td>\n",
       "      <td>0.000000</td>\n",
       "    </tr>\n",
       "    <tr>\n",
       "      <th>75%</th>\n",
       "      <td>48.000000</td>\n",
       "      <td>1428.000000</td>\n",
       "      <td>21.000000</td>\n",
       "      <td>319.000000</td>\n",
       "      <td>3.000000</td>\n",
       "      <td>-1.000000</td>\n",
       "      <td>0.000000</td>\n",
       "    </tr>\n",
       "    <tr>\n",
       "      <th>max</th>\n",
       "      <td>95.000000</td>\n",
       "      <td>102127.000000</td>\n",
       "      <td>31.000000</td>\n",
       "      <td>4918.000000</td>\n",
       "      <td>63.000000</td>\n",
       "      <td>871.000000</td>\n",
       "      <td>275.000000</td>\n",
       "    </tr>\n",
       "  </tbody>\n",
       "</table></div>"
      ],
      "text/plain": [
       "                age        balance           day      duration      campaign  \\\n",
       "count  45211.000000   45211.000000  45211.000000  45211.000000  45211.000000   \n",
       "mean      40.936210    1362.272058     15.806419    258.163080      2.763841   \n",
       "std       10.618762    3044.765829      8.322476    257.527812      3.098021   \n",
       "min       18.000000   -8019.000000      1.000000      0.000000      1.000000   \n",
       "25%       33.000000      72.000000      8.000000    103.000000      1.000000   \n",
       "50%       39.000000     448.000000     16.000000    180.000000      2.000000   \n",
       "75%       48.000000    1428.000000     21.000000    319.000000      3.000000   \n",
       "max       95.000000  102127.000000     31.000000   4918.000000     63.000000   \n",
       "\n",
       "              pdays      previous  \n",
       "count  45211.000000  45211.000000  \n",
       "mean      40.197828      0.580323  \n",
       "std      100.128746      2.303441  \n",
       "min       -1.000000      0.000000  \n",
       "25%       -1.000000      0.000000  \n",
       "50%       -1.000000      0.000000  \n",
       "75%       -1.000000      0.000000  \n",
       "max      871.000000    275.000000  "
      ]
     },
     "execution_count": 5,
     "metadata": {},
     "output_type": "execute_result"
    }
   ],
   "source": [
    "df.describe()"
   ]
  },
  {
   "cell_type": "code",
   "execution_count": 6,
   "id": "e65f17f5",
   "metadata": {},
   "outputs": [
    {
     "name": "stdout",
     "output_type": "stream",
     "text": [
      "<class 'pandas.core.frame.DataFrame'>\n",
      "RangeIndex: 45211 entries, 0 to 45210\n",
      "Data columns (total 17 columns):\n",
      " #   Column     Non-Null Count  Dtype \n",
      "---  ------     --------------  ----- \n",
      " 0   age        45211 non-null  int64 \n",
      " 1   job        45211 non-null  object\n",
      " 2   marital    45211 non-null  object\n",
      " 3   education  45211 non-null  object\n",
      " 4   default    45211 non-null  object\n",
      " 5   balance    45211 non-null  int64 \n",
      " 6   housing    45211 non-null  object\n",
      " 7   loan       45211 non-null  object\n",
      " 8   contact    45211 non-null  object\n",
      " 9   day        45211 non-null  int64 \n",
      " 10  month      45211 non-null  object\n",
      " 11  duration   45211 non-null  int64 \n",
      " 12  campaign   45211 non-null  int64 \n",
      " 13  pdays      45211 non-null  int64 \n",
      " 14  previous   45211 non-null  int64 \n",
      " 15  poutcome   45211 non-null  object\n",
      " 16  y          45211 non-null  object\n",
      "dtypes: int64(7), object(10)\n",
      "memory usage: 5.9+ MB\n"
     ]
    }
   ],
   "source": [
    "df.info()"
   ]
  },
  {
   "cell_type": "code",
   "execution_count": 7,
   "id": "cc019bbb",
   "metadata": {},
   "outputs": [
    {
     "data": {
      "text/plain": [
       "[('age', 77, dtype('int64')),\n",
       " ('job', 12, dtype('O')),\n",
       " ('marital', 3, dtype('O')),\n",
       " ('education', 4, dtype('O')),\n",
       " ('default', 2, dtype('O')),\n",
       " ('balance', 7168, dtype('int64')),\n",
       " ('housing', 2, dtype('O')),\n",
       " ('loan', 2, dtype('O')),\n",
       " ('contact', 3, dtype('O')),\n",
       " ('day', 31, dtype('int64')),\n",
       " ('month', 12, dtype('O')),\n",
       " ('duration', 1573, dtype('int64')),\n",
       " ('campaign', 48, dtype('int64')),\n",
       " ('pdays', 559, dtype('int64')),\n",
       " ('previous', 41, dtype('int64')),\n",
       " ('poutcome', 4, dtype('O')),\n",
       " ('y', 2, dtype('O'))]"
      ]
     },
     "execution_count": 7,
     "metadata": {},
     "output_type": "execute_result"
    }
   ],
   "source": [
    "list(zip(df.columns,df.nunique(),df.dtypes))"
   ]
  },
  {
   "cell_type": "code",
   "execution_count": 8,
   "id": "6dc2795c",
   "metadata": {},
   "outputs": [
    {
     "data": {
      "text/html": [
       "<div><div id=37f0d1e5-a06a-47c8-aa18-b79ecdbfd7f5 style=\"display:none; background-color:#9D6CFF; color:white; width:200px; height:30px; padding-left:5px; border-radius:4px; flex-direction:row; justify-content:space-around; align-items:center;\" onmouseover=\"this.style.backgroundColor='#BA9BF8'\" onmouseout=\"this.style.backgroundColor='#9D6CFF'\" onclick=\"window.commands?.execute('create-mitosheet-from-dataframe-output');\">See Full Dataframe in Mito</div> <script> if (window.commands?.hasCommand('create-mitosheet-from-dataframe-output')) document.getElementById('37f0d1e5-a06a-47c8-aa18-b79ecdbfd7f5').style.display = 'flex' </script> <table border=\"1\" class=\"dataframe\">\n",
       "  <thead>\n",
       "    <tr style=\"text-align: right;\">\n",
       "      <th></th>\n",
       "      <th>age</th>\n",
       "      <th>job</th>\n",
       "      <th>marital</th>\n",
       "      <th>education</th>\n",
       "      <th>default</th>\n",
       "      <th>balance</th>\n",
       "      <th>housing</th>\n",
       "      <th>loan</th>\n",
       "      <th>contact</th>\n",
       "      <th>day</th>\n",
       "      <th>month</th>\n",
       "      <th>duration</th>\n",
       "      <th>campaign</th>\n",
       "      <th>pdays</th>\n",
       "      <th>previous</th>\n",
       "      <th>poutcome</th>\n",
       "      <th>y</th>\n",
       "    </tr>\n",
       "  </thead>\n",
       "  <tbody>\n",
       "    <tr>\n",
       "      <th>35509</th>\n",
       "      <td>31</td>\n",
       "      <td>technician</td>\n",
       "      <td>single</td>\n",
       "      <td>unknown</td>\n",
       "      <td>no</td>\n",
       "      <td>460</td>\n",
       "      <td>yes</td>\n",
       "      <td>no</td>\n",
       "      <td>cellular</td>\n",
       "      <td>7</td>\n",
       "      <td>may</td>\n",
       "      <td>189</td>\n",
       "      <td>2</td>\n",
       "      <td>-1</td>\n",
       "      <td>0</td>\n",
       "      <td>unknown</td>\n",
       "      <td>no</td>\n",
       "    </tr>\n",
       "    <tr>\n",
       "      <th>23535</th>\n",
       "      <td>49</td>\n",
       "      <td>unknown</td>\n",
       "      <td>married</td>\n",
       "      <td>secondary</td>\n",
       "      <td>no</td>\n",
       "      <td>0</td>\n",
       "      <td>no</td>\n",
       "      <td>no</td>\n",
       "      <td>cellular</td>\n",
       "      <td>28</td>\n",
       "      <td>aug</td>\n",
       "      <td>173</td>\n",
       "      <td>2</td>\n",
       "      <td>-1</td>\n",
       "      <td>0</td>\n",
       "      <td>unknown</td>\n",
       "      <td>no</td>\n",
       "    </tr>\n",
       "    <tr>\n",
       "      <th>30446</th>\n",
       "      <td>42</td>\n",
       "      <td>self-employed</td>\n",
       "      <td>married</td>\n",
       "      <td>secondary</td>\n",
       "      <td>no</td>\n",
       "      <td>513</td>\n",
       "      <td>no</td>\n",
       "      <td>no</td>\n",
       "      <td>telephone</td>\n",
       "      <td>5</td>\n",
       "      <td>feb</td>\n",
       "      <td>98</td>\n",
       "      <td>1</td>\n",
       "      <td>-1</td>\n",
       "      <td>0</td>\n",
       "      <td>unknown</td>\n",
       "      <td>no</td>\n",
       "    </tr>\n",
       "    <tr>\n",
       "      <th>26931</th>\n",
       "      <td>54</td>\n",
       "      <td>self-employed</td>\n",
       "      <td>single</td>\n",
       "      <td>tertiary</td>\n",
       "      <td>no</td>\n",
       "      <td>760</td>\n",
       "      <td>no</td>\n",
       "      <td>no</td>\n",
       "      <td>telephone</td>\n",
       "      <td>21</td>\n",
       "      <td>nov</td>\n",
       "      <td>336</td>\n",
       "      <td>1</td>\n",
       "      <td>-1</td>\n",
       "      <td>0</td>\n",
       "      <td>unknown</td>\n",
       "      <td>no</td>\n",
       "    </tr>\n",
       "    <tr>\n",
       "      <th>15271</th>\n",
       "      <td>41</td>\n",
       "      <td>management</td>\n",
       "      <td>single</td>\n",
       "      <td>tertiary</td>\n",
       "      <td>no</td>\n",
       "      <td>0</td>\n",
       "      <td>yes</td>\n",
       "      <td>no</td>\n",
       "      <td>cellular</td>\n",
       "      <td>17</td>\n",
       "      <td>jul</td>\n",
       "      <td>509</td>\n",
       "      <td>7</td>\n",
       "      <td>-1</td>\n",
       "      <td>0</td>\n",
       "      <td>unknown</td>\n",
       "      <td>no</td>\n",
       "    </tr>\n",
       "  </tbody>\n",
       "</table></div>"
      ],
      "text/plain": [
       "       age            job  marital  education default  balance housing loan  \\\n",
       "35509   31     technician   single    unknown      no      460     yes   no   \n",
       "23535   49        unknown  married  secondary      no        0      no   no   \n",
       "30446   42  self-employed  married  secondary      no      513      no   no   \n",
       "26931   54  self-employed   single   tertiary      no      760      no   no   \n",
       "15271   41     management   single   tertiary      no        0     yes   no   \n",
       "\n",
       "         contact  day month  duration  campaign  pdays  previous poutcome   y  \n",
       "35509   cellular    7   may       189         2     -1         0  unknown  no  \n",
       "23535   cellular   28   aug       173         2     -1         0  unknown  no  \n",
       "30446  telephone    5   feb        98         1     -1         0  unknown  no  \n",
       "26931  telephone   21   nov       336         1     -1         0  unknown  no  \n",
       "15271   cellular   17   jul       509         7     -1         0  unknown  no  "
      ]
     },
     "execution_count": 8,
     "metadata": {},
     "output_type": "execute_result"
    }
   ],
   "source": [
    "df.sample(5)"
   ]
  },
  {
   "cell_type": "code",
   "execution_count": 9,
   "id": "4c342404",
   "metadata": {},
   "outputs": [
    {
     "data": {
      "text/plain": [
       "count           45211\n",
       "unique             12\n",
       "top       blue-collar\n",
       "freq             9732\n",
       "Name: job, dtype: object"
      ]
     },
     "execution_count": 9,
     "metadata": {},
     "output_type": "execute_result"
    }
   ],
   "source": [
    "df['job'].describe() #to check categorical values"
   ]
  },
  {
   "cell_type": "markdown",
   "id": "2daae0e3",
   "metadata": {},
   "source": [
    "|Function\t|Description|\n",
    "|-----------|-----------|\n",
    "|count\t|Number of non-null observations|\n",
    "|sum\t|Sum of values|\n",
    "|mean\t|Mean of values|\n",
    "|mad\t|Mean absolute deviation|\n",
    "|median\t|Arithmetic median of values|\n",
    "|min\t|Minimum|\n",
    "|max\t|Maximum|\n",
    "|mode\t|Mode|\n",
    "|abs\t|Absolute Value|\n",
    "|prod\t|Product of values|\n",
    "|std\t|Unbiased standard deviation|\n",
    "|var\t|Unbiased variance|\n",
    "|sem\t|Unbiased standard error of the mean|\n",
    "|skew\t|Unbiased skewness (3rd moment)|\n",
    "|kurt\t|Unbiased kurtosis (4th moment)|\n",
    "|quantile\t|Sample quantile (value at %)|\n",
    "|cumsum\t|Cumulative sum|\n",
    "|cumprod\t|Cumulative product|\n",
    "|cummax\t|Cumulative maximum|\n",
    "|cummin\t|Cumulative minimum|"
   ]
  },
  {
   "cell_type": "code",
   "execution_count": 10,
   "id": "8b3f05e4",
   "metadata": {},
   "outputs": [],
   "source": [
    "k=df['job'].value_counts()"
   ]
  },
  {
   "cell_type": "code",
   "execution_count": 11,
   "id": "5dade259",
   "metadata": {},
   "outputs": [
    {
     "data": {
      "text/plain": [
       "pandas.core.series.Series"
      ]
     },
     "execution_count": 11,
     "metadata": {},
     "output_type": "execute_result"
    }
   ],
   "source": [
    "type(k)"
   ]
  },
  {
   "cell_type": "code",
   "execution_count": 12,
   "id": "304e904f",
   "metadata": {},
   "outputs": [
    {
     "data": {
      "text/plain": [
       "Index(['blue-collar', 'management', 'technician', 'admin.', 'services',\n",
       "       'retired', 'self-employed', 'entrepreneur', 'unemployed', 'housemaid',\n",
       "       'student', 'unknown'],\n",
       "      dtype='object')"
      ]
     },
     "execution_count": 12,
     "metadata": {},
     "output_type": "execute_result"
    }
   ],
   "source": [
    "k.index"
   ]
  },
  {
   "cell_type": "code",
   "execution_count": 13,
   "id": "815de6fa",
   "metadata": {},
   "outputs": [
    {
     "data": {
      "text/plain": [
       "array([9732, 9458, 7597, 5171, 4154, 2264, 1579, 1487, 1303, 1240,  938,\n",
       "        288], dtype=int64)"
      ]
     },
     "execution_count": 13,
     "metadata": {},
     "output_type": "execute_result"
    }
   ],
   "source": [
    "k.values"
   ]
  },
  {
   "cell_type": "code",
   "execution_count": 14,
   "id": "d2a627f9",
   "metadata": {},
   "outputs": [],
   "source": [
    "# Exercise\n",
    "# extract the name of the category for which frequency is minimum/maximum\n",
    "# extract category names for which the frequency is higher than 1500\n",
    "# make use of index "
   ]
  },
  {
   "cell_type": "code",
   "execution_count": 15,
   "id": "7a94839a",
   "metadata": {},
   "outputs": [
    {
     "data": {
      "text/plain": [
       "'blue-collar'"
      ]
     },
     "execution_count": 15,
     "metadata": {},
     "output_type": "execute_result"
    }
   ],
   "source": [
    "k.index[0] #maximum"
   ]
  },
  {
   "cell_type": "code",
   "execution_count": 16,
   "id": "6930bb7f",
   "metadata": {},
   "outputs": [
    {
     "data": {
      "text/plain": [
       "'unknown'"
      ]
     },
     "execution_count": 16,
     "metadata": {},
     "output_type": "execute_result"
    }
   ],
   "source": [
    "k.index[-1] #minimum"
   ]
  },
  {
   "cell_type": "code",
   "execution_count": 17,
   "id": "3ed3a65a",
   "metadata": {},
   "outputs": [
    {
     "data": {
      "text/plain": [
       "Index(['blue-collar', 'management', 'technician', 'admin.', 'services',\n",
       "       'retired', 'self-employed'],\n",
       "      dtype='object')"
      ]
     },
     "execution_count": 17,
     "metadata": {},
     "output_type": "execute_result"
    }
   ],
   "source": [
    "k.index[k.values>1500] # or k.index[k  > 1500]"
   ]
  },
  {
   "cell_type": "code",
   "execution_count": 18,
   "id": "6af8cfd8",
   "metadata": {},
   "outputs": [
    {
     "data": {
      "text/html": [
       "<div><div id=bc8ef8ea-546e-4548-bf6e-3e47f84dda72 style=\"display:none; background-color:#9D6CFF; color:white; width:200px; height:30px; padding-left:5px; border-radius:4px; flex-direction:row; justify-content:space-around; align-items:center;\" onmouseover=\"this.style.backgroundColor='#BA9BF8'\" onmouseout=\"this.style.backgroundColor='#9D6CFF'\" onclick=\"window.commands?.execute('create-mitosheet-from-dataframe-output');\">See Full Dataframe in Mito</div> <script> if (window.commands?.hasCommand('create-mitosheet-from-dataframe-output')) document.getElementById('bc8ef8ea-546e-4548-bf6e-3e47f84dda72').style.display = 'flex' </script> <table border=\"1\" class=\"dataframe\">\n",
       "  <thead>\n",
       "    <tr style=\"text-align: right;\">\n",
       "      <th>housing</th>\n",
       "      <th>no</th>\n",
       "      <th>yes</th>\n",
       "    </tr>\n",
       "    <tr>\n",
       "      <th>default</th>\n",
       "      <th></th>\n",
       "      <th></th>\n",
       "    </tr>\n",
       "  </thead>\n",
       "  <tbody>\n",
       "    <tr>\n",
       "      <th>no</th>\n",
       "      <td>19701</td>\n",
       "      <td>24695</td>\n",
       "    </tr>\n",
       "    <tr>\n",
       "      <th>yes</th>\n",
       "      <td>380</td>\n",
       "      <td>435</td>\n",
       "    </tr>\n",
       "  </tbody>\n",
       "</table></div>"
      ],
      "text/plain": [
       "housing     no    yes\n",
       "default              \n",
       "no       19701  24695\n",
       "yes        380    435"
      ]
     },
     "execution_count": 18,
     "metadata": {},
     "output_type": "execute_result"
    }
   ],
   "source": [
    "pd.crosstab(df['default'],df['housing'])"
   ]
  },
  {
   "cell_type": "code",
   "execution_count": 19,
   "id": "ce5be182",
   "metadata": {},
   "outputs": [
    {
     "data": {
      "text/html": [
       "<div><div id=1d494fe6-ec0f-4602-bc97-ac300aeb807f style=\"display:none; background-color:#9D6CFF; color:white; width:200px; height:30px; padding-left:5px; border-radius:4px; flex-direction:row; justify-content:space-around; align-items:center;\" onmouseover=\"this.style.backgroundColor='#BA9BF8'\" onmouseout=\"this.style.backgroundColor='#9D6CFF'\" onclick=\"window.commands?.execute('create-mitosheet-from-dataframe-output');\">See Full Dataframe in Mito</div> <script> if (window.commands?.hasCommand('create-mitosheet-from-dataframe-output')) document.getElementById('1d494fe6-ec0f-4602-bc97-ac300aeb807f').style.display = 'flex' </script> <table border=\"1\" class=\"dataframe\">\n",
       "  <thead>\n",
       "    <tr style=\"text-align: right;\">\n",
       "      <th>job</th>\n",
       "      <th>admin.</th>\n",
       "      <th>blue-collar</th>\n",
       "      <th>entrepreneur</th>\n",
       "      <th>housemaid</th>\n",
       "      <th>management</th>\n",
       "      <th>retired</th>\n",
       "      <th>self-employed</th>\n",
       "      <th>services</th>\n",
       "      <th>student</th>\n",
       "      <th>technician</th>\n",
       "      <th>unemployed</th>\n",
       "      <th>unknown</th>\n",
       "    </tr>\n",
       "    <tr>\n",
       "      <th>default</th>\n",
       "      <th></th>\n",
       "      <th></th>\n",
       "      <th></th>\n",
       "      <th></th>\n",
       "      <th></th>\n",
       "      <th></th>\n",
       "      <th></th>\n",
       "      <th></th>\n",
       "      <th></th>\n",
       "      <th></th>\n",
       "      <th></th>\n",
       "      <th></th>\n",
       "    </tr>\n",
       "  </thead>\n",
       "  <tbody>\n",
       "    <tr>\n",
       "      <th>no</th>\n",
       "      <td>5097</td>\n",
       "      <td>9531</td>\n",
       "      <td>1432</td>\n",
       "      <td>1218</td>\n",
       "      <td>9294</td>\n",
       "      <td>2238</td>\n",
       "      <td>1546</td>\n",
       "      <td>4079</td>\n",
       "      <td>935</td>\n",
       "      <td>7467</td>\n",
       "      <td>1273</td>\n",
       "      <td>286</td>\n",
       "    </tr>\n",
       "    <tr>\n",
       "      <th>yes</th>\n",
       "      <td>74</td>\n",
       "      <td>201</td>\n",
       "      <td>55</td>\n",
       "      <td>22</td>\n",
       "      <td>164</td>\n",
       "      <td>26</td>\n",
       "      <td>33</td>\n",
       "      <td>75</td>\n",
       "      <td>3</td>\n",
       "      <td>130</td>\n",
       "      <td>30</td>\n",
       "      <td>2</td>\n",
       "    </tr>\n",
       "  </tbody>\n",
       "</table></div>"
      ],
      "text/plain": [
       "job      admin.  blue-collar  entrepreneur  housemaid  management  retired  \\\n",
       "default                                                                      \n",
       "no         5097         9531          1432       1218        9294     2238   \n",
       "yes          74          201            55         22         164       26   \n",
       "\n",
       "job      self-employed  services  student  technician  unemployed  unknown  \n",
       "default                                                                     \n",
       "no                1546      4079      935        7467        1273      286  \n",
       "yes                 33        75        3         130          30        2  "
      ]
     },
     "execution_count": 19,
     "metadata": {},
     "output_type": "execute_result"
    }
   ],
   "source": [
    "pd.crosstab(df['default'],df['job'])"
   ]
  },
  {
   "cell_type": "code",
   "execution_count": 20,
   "id": "d500d46c",
   "metadata": {},
   "outputs": [
    {
     "data": {
      "text/html": [
       "<div><div id=34b211e9-16fa-42db-92bb-12c925c73726 style=\"display:none; background-color:#9D6CFF; color:white; width:200px; height:30px; padding-left:5px; border-radius:4px; flex-direction:row; justify-content:space-around; align-items:center;\" onmouseover=\"this.style.backgroundColor='#BA9BF8'\" onmouseout=\"this.style.backgroundColor='#9D6CFF'\" onclick=\"window.commands?.execute('create-mitosheet-from-dataframe-output');\">See Full Dataframe in Mito</div> <script> if (window.commands?.hasCommand('create-mitosheet-from-dataframe-output')) document.getElementById('34b211e9-16fa-42db-92bb-12c925c73726').style.display = 'flex' </script> <table border=\"1\" class=\"dataframe\">\n",
       "  <thead>\n",
       "    <tr style=\"text-align: right;\">\n",
       "      <th>housing</th>\n",
       "      <th>no</th>\n",
       "      <th>yes</th>\n",
       "      <th>All</th>\n",
       "    </tr>\n",
       "    <tr>\n",
       "      <th>default</th>\n",
       "      <th></th>\n",
       "      <th></th>\n",
       "      <th></th>\n",
       "    </tr>\n",
       "  </thead>\n",
       "  <tbody>\n",
       "    <tr>\n",
       "      <th>no</th>\n",
       "      <td>19701</td>\n",
       "      <td>24695</td>\n",
       "      <td>44396</td>\n",
       "    </tr>\n",
       "    <tr>\n",
       "      <th>yes</th>\n",
       "      <td>380</td>\n",
       "      <td>435</td>\n",
       "      <td>815</td>\n",
       "    </tr>\n",
       "    <tr>\n",
       "      <th>All</th>\n",
       "      <td>20081</td>\n",
       "      <td>25130</td>\n",
       "      <td>45211</td>\n",
       "    </tr>\n",
       "  </tbody>\n",
       "</table></div>"
      ],
      "text/plain": [
       "housing     no    yes    All\n",
       "default                     \n",
       "no       19701  24695  44396\n",
       "yes        380    435    815\n",
       "All      20081  25130  45211"
      ]
     },
     "execution_count": 20,
     "metadata": {},
     "output_type": "execute_result"
    }
   ],
   "source": [
    "pd.crosstab(df['default'],df['housing'],margins=True)\n",
    "\n",
    "#by default value_counbts and crosstab ignore missig valurs\n",
    "# you can change that behaviour dropna=False"
   ]
  },
  {
   "cell_type": "code",
   "execution_count": 21,
   "id": "a9cef56c",
   "metadata": {},
   "outputs": [
    {
     "data": {
      "text/html": [
       "<div><div id=6fe6a2e5-0137-4d9b-b496-bfb53d2e4150 style=\"display:none; background-color:#9D6CFF; color:white; width:200px; height:30px; padding-left:5px; border-radius:4px; flex-direction:row; justify-content:space-around; align-items:center;\" onmouseover=\"this.style.backgroundColor='#BA9BF8'\" onmouseout=\"this.style.backgroundColor='#9D6CFF'\" onclick=\"window.commands?.execute('create-mitosheet-from-dataframe-output');\">See Full Dataframe in Mito</div> <script> if (window.commands?.hasCommand('create-mitosheet-from-dataframe-output')) document.getElementById('6fe6a2e5-0137-4d9b-b496-bfb53d2e4150').style.display = 'flex' </script> <table border=\"1\" class=\"dataframe\">\n",
       "  <thead>\n",
       "    <tr style=\"text-align: right;\">\n",
       "      <th></th>\n",
       "      <th>age</th>\n",
       "      <th>balance</th>\n",
       "      <th>day</th>\n",
       "      <th>duration</th>\n",
       "      <th>campaign</th>\n",
       "      <th>pdays</th>\n",
       "      <th>previous</th>\n",
       "    </tr>\n",
       "  </thead>\n",
       "  <tbody>\n",
       "    <tr>\n",
       "      <th>0</th>\n",
       "      <td>58</td>\n",
       "      <td>2143</td>\n",
       "      <td>5</td>\n",
       "      <td>261</td>\n",
       "      <td>1</td>\n",
       "      <td>-1</td>\n",
       "      <td>0</td>\n",
       "    </tr>\n",
       "    <tr>\n",
       "      <th>1</th>\n",
       "      <td>44</td>\n",
       "      <td>29</td>\n",
       "      <td>5</td>\n",
       "      <td>151</td>\n",
       "      <td>1</td>\n",
       "      <td>-1</td>\n",
       "      <td>0</td>\n",
       "    </tr>\n",
       "    <tr>\n",
       "      <th>2</th>\n",
       "      <td>33</td>\n",
       "      <td>2</td>\n",
       "      <td>5</td>\n",
       "      <td>76</td>\n",
       "      <td>1</td>\n",
       "      <td>-1</td>\n",
       "      <td>0</td>\n",
       "    </tr>\n",
       "    <tr>\n",
       "      <th>3</th>\n",
       "      <td>47</td>\n",
       "      <td>1506</td>\n",
       "      <td>5</td>\n",
       "      <td>92</td>\n",
       "      <td>1</td>\n",
       "      <td>-1</td>\n",
       "      <td>0</td>\n",
       "    </tr>\n",
       "    <tr>\n",
       "      <th>4</th>\n",
       "      <td>33</td>\n",
       "      <td>1</td>\n",
       "      <td>5</td>\n",
       "      <td>198</td>\n",
       "      <td>1</td>\n",
       "      <td>-1</td>\n",
       "      <td>0</td>\n",
       "    </tr>\n",
       "    <tr>\n",
       "      <th>...</th>\n",
       "      <td>...</td>\n",
       "      <td>...</td>\n",
       "      <td>...</td>\n",
       "      <td>...</td>\n",
       "      <td>...</td>\n",
       "      <td>...</td>\n",
       "      <td>...</td>\n",
       "    </tr>\n",
       "    <tr>\n",
       "      <th>45206</th>\n",
       "      <td>51</td>\n",
       "      <td>825</td>\n",
       "      <td>17</td>\n",
       "      <td>977</td>\n",
       "      <td>3</td>\n",
       "      <td>-1</td>\n",
       "      <td>0</td>\n",
       "    </tr>\n",
       "    <tr>\n",
       "      <th>45207</th>\n",
       "      <td>71</td>\n",
       "      <td>1729</td>\n",
       "      <td>17</td>\n",
       "      <td>456</td>\n",
       "      <td>2</td>\n",
       "      <td>-1</td>\n",
       "      <td>0</td>\n",
       "    </tr>\n",
       "    <tr>\n",
       "      <th>45208</th>\n",
       "      <td>72</td>\n",
       "      <td>5715</td>\n",
       "      <td>17</td>\n",
       "      <td>1127</td>\n",
       "      <td>5</td>\n",
       "      <td>184</td>\n",
       "      <td>3</td>\n",
       "    </tr>\n",
       "    <tr>\n",
       "      <th>45209</th>\n",
       "      <td>57</td>\n",
       "      <td>668</td>\n",
       "      <td>17</td>\n",
       "      <td>508</td>\n",
       "      <td>4</td>\n",
       "      <td>-1</td>\n",
       "      <td>0</td>\n",
       "    </tr>\n",
       "    <tr>\n",
       "      <th>45210</th>\n",
       "      <td>37</td>\n",
       "      <td>2971</td>\n",
       "      <td>17</td>\n",
       "      <td>361</td>\n",
       "      <td>2</td>\n",
       "      <td>188</td>\n",
       "      <td>11</td>\n",
       "    </tr>\n",
       "  </tbody>\n",
       "</table></div>"
      ],
      "text/plain": [
       "       age  balance  day  duration  campaign  pdays  previous\n",
       "0       58     2143    5       261         1     -1         0\n",
       "1       44       29    5       151         1     -1         0\n",
       "2       33        2    5        76         1     -1         0\n",
       "3       47     1506    5        92         1     -1         0\n",
       "4       33        1    5       198         1     -1         0\n",
       "...    ...      ...  ...       ...       ...    ...       ...\n",
       "45206   51      825   17       977         3     -1         0\n",
       "45207   71     1729   17       456         2     -1         0\n",
       "45208   72     5715   17      1127         5    184         3\n",
       "45209   57      668   17       508         4     -1         0\n",
       "45210   37     2971   17       361         2    188        11\n",
       "\n",
       "[45211 rows x 7 columns]"
      ]
     },
     "execution_count": 21,
     "metadata": {},
     "output_type": "execute_result"
    }
   ],
   "source": [
    "df.select_dtypes(exclude=['object'])"
   ]
  },
  {
   "cell_type": "code",
   "execution_count": 22,
   "id": "11fbdaca",
   "metadata": {},
   "outputs": [
    {
     "data": {
      "text/html": [
       "<div><div id=2baff72e-bcc0-4a64-a036-4cd794992b33 style=\"display:none; background-color:#9D6CFF; color:white; width:200px; height:30px; padding-left:5px; border-radius:4px; flex-direction:row; justify-content:space-around; align-items:center;\" onmouseover=\"this.style.backgroundColor='#BA9BF8'\" onmouseout=\"this.style.backgroundColor='#9D6CFF'\" onclick=\"window.commands?.execute('create-mitosheet-from-dataframe-output');\">See Full Dataframe in Mito</div> <script> if (window.commands?.hasCommand('create-mitosheet-from-dataframe-output')) document.getElementById('2baff72e-bcc0-4a64-a036-4cd794992b33').style.display = 'flex' </script> <table border=\"1\" class=\"dataframe\">\n",
       "  <thead>\n",
       "    <tr style=\"text-align: right;\">\n",
       "      <th></th>\n",
       "      <th>job</th>\n",
       "      <th>marital</th>\n",
       "      <th>education</th>\n",
       "      <th>default</th>\n",
       "      <th>housing</th>\n",
       "      <th>loan</th>\n",
       "      <th>contact</th>\n",
       "      <th>month</th>\n",
       "      <th>poutcome</th>\n",
       "      <th>y</th>\n",
       "    </tr>\n",
       "  </thead>\n",
       "  <tbody>\n",
       "    <tr>\n",
       "      <th>0</th>\n",
       "      <td>management</td>\n",
       "      <td>married</td>\n",
       "      <td>tertiary</td>\n",
       "      <td>no</td>\n",
       "      <td>yes</td>\n",
       "      <td>no</td>\n",
       "      <td>unknown</td>\n",
       "      <td>may</td>\n",
       "      <td>unknown</td>\n",
       "      <td>no</td>\n",
       "    </tr>\n",
       "    <tr>\n",
       "      <th>1</th>\n",
       "      <td>technician</td>\n",
       "      <td>single</td>\n",
       "      <td>secondary</td>\n",
       "      <td>no</td>\n",
       "      <td>yes</td>\n",
       "      <td>no</td>\n",
       "      <td>unknown</td>\n",
       "      <td>may</td>\n",
       "      <td>unknown</td>\n",
       "      <td>no</td>\n",
       "    </tr>\n",
       "    <tr>\n",
       "      <th>2</th>\n",
       "      <td>entrepreneur</td>\n",
       "      <td>married</td>\n",
       "      <td>secondary</td>\n",
       "      <td>no</td>\n",
       "      <td>yes</td>\n",
       "      <td>yes</td>\n",
       "      <td>unknown</td>\n",
       "      <td>may</td>\n",
       "      <td>unknown</td>\n",
       "      <td>no</td>\n",
       "    </tr>\n",
       "    <tr>\n",
       "      <th>3</th>\n",
       "      <td>blue-collar</td>\n",
       "      <td>married</td>\n",
       "      <td>unknown</td>\n",
       "      <td>no</td>\n",
       "      <td>yes</td>\n",
       "      <td>no</td>\n",
       "      <td>unknown</td>\n",
       "      <td>may</td>\n",
       "      <td>unknown</td>\n",
       "      <td>no</td>\n",
       "    </tr>\n",
       "    <tr>\n",
       "      <th>4</th>\n",
       "      <td>unknown</td>\n",
       "      <td>single</td>\n",
       "      <td>unknown</td>\n",
       "      <td>no</td>\n",
       "      <td>no</td>\n",
       "      <td>no</td>\n",
       "      <td>unknown</td>\n",
       "      <td>may</td>\n",
       "      <td>unknown</td>\n",
       "      <td>no</td>\n",
       "    </tr>\n",
       "    <tr>\n",
       "      <th>...</th>\n",
       "      <td>...</td>\n",
       "      <td>...</td>\n",
       "      <td>...</td>\n",
       "      <td>...</td>\n",
       "      <td>...</td>\n",
       "      <td>...</td>\n",
       "      <td>...</td>\n",
       "      <td>...</td>\n",
       "      <td>...</td>\n",
       "      <td>...</td>\n",
       "    </tr>\n",
       "    <tr>\n",
       "      <th>45206</th>\n",
       "      <td>technician</td>\n",
       "      <td>married</td>\n",
       "      <td>tertiary</td>\n",
       "      <td>no</td>\n",
       "      <td>no</td>\n",
       "      <td>no</td>\n",
       "      <td>cellular</td>\n",
       "      <td>nov</td>\n",
       "      <td>unknown</td>\n",
       "      <td>yes</td>\n",
       "    </tr>\n",
       "    <tr>\n",
       "      <th>45207</th>\n",
       "      <td>retired</td>\n",
       "      <td>divorced</td>\n",
       "      <td>primary</td>\n",
       "      <td>no</td>\n",
       "      <td>no</td>\n",
       "      <td>no</td>\n",
       "      <td>cellular</td>\n",
       "      <td>nov</td>\n",
       "      <td>unknown</td>\n",
       "      <td>yes</td>\n",
       "    </tr>\n",
       "    <tr>\n",
       "      <th>45208</th>\n",
       "      <td>retired</td>\n",
       "      <td>married</td>\n",
       "      <td>secondary</td>\n",
       "      <td>no</td>\n",
       "      <td>no</td>\n",
       "      <td>no</td>\n",
       "      <td>cellular</td>\n",
       "      <td>nov</td>\n",
       "      <td>success</td>\n",
       "      <td>yes</td>\n",
       "    </tr>\n",
       "    <tr>\n",
       "      <th>45209</th>\n",
       "      <td>blue-collar</td>\n",
       "      <td>married</td>\n",
       "      <td>secondary</td>\n",
       "      <td>no</td>\n",
       "      <td>no</td>\n",
       "      <td>no</td>\n",
       "      <td>telephone</td>\n",
       "      <td>nov</td>\n",
       "      <td>unknown</td>\n",
       "      <td>no</td>\n",
       "    </tr>\n",
       "    <tr>\n",
       "      <th>45210</th>\n",
       "      <td>entrepreneur</td>\n",
       "      <td>married</td>\n",
       "      <td>secondary</td>\n",
       "      <td>no</td>\n",
       "      <td>no</td>\n",
       "      <td>no</td>\n",
       "      <td>cellular</td>\n",
       "      <td>nov</td>\n",
       "      <td>other</td>\n",
       "      <td>no</td>\n",
       "    </tr>\n",
       "  </tbody>\n",
       "</table></div>"
      ],
      "text/plain": [
       "                job   marital  education default housing loan    contact  \\\n",
       "0        management   married   tertiary      no     yes   no    unknown   \n",
       "1        technician    single  secondary      no     yes   no    unknown   \n",
       "2      entrepreneur   married  secondary      no     yes  yes    unknown   \n",
       "3       blue-collar   married    unknown      no     yes   no    unknown   \n",
       "4           unknown    single    unknown      no      no   no    unknown   \n",
       "...             ...       ...        ...     ...     ...  ...        ...   \n",
       "45206    technician   married   tertiary      no      no   no   cellular   \n",
       "45207       retired  divorced    primary      no      no   no   cellular   \n",
       "45208       retired   married  secondary      no      no   no   cellular   \n",
       "45209   blue-collar   married  secondary      no      no   no  telephone   \n",
       "45210  entrepreneur   married  secondary      no      no   no   cellular   \n",
       "\n",
       "      month poutcome    y  \n",
       "0       may  unknown   no  \n",
       "1       may  unknown   no  \n",
       "2       may  unknown   no  \n",
       "3       may  unknown   no  \n",
       "4       may  unknown   no  \n",
       "...     ...      ...  ...  \n",
       "45206   nov  unknown  yes  \n",
       "45207   nov  unknown  yes  \n",
       "45208   nov  success  yes  \n",
       "45209   nov  unknown   no  \n",
       "45210   nov    other   no  \n",
       "\n",
       "[45211 rows x 10 columns]"
      ]
     },
     "execution_count": 22,
     "metadata": {},
     "output_type": "execute_result"
    }
   ],
   "source": [
    "df.select_dtypes(['object'])"
   ]
  },
  {
   "cell_type": "code",
   "execution_count": 23,
   "id": "a0216002",
   "metadata": {},
   "outputs": [],
   "source": [
    "cat_var=df.select_dtypes(['object']).columns"
   ]
  },
  {
   "cell_type": "code",
   "execution_count": 24,
   "id": "2cf950b5",
   "metadata": {},
   "outputs": [
    {
     "name": "stdout",
     "output_type": "stream",
     "text": [
      "column name: job\n",
      "blue-collar      9732\n",
      "management       9458\n",
      "technician       7597\n",
      "admin.           5171\n",
      "services         4154\n",
      "retired          2264\n",
      "self-employed    1579\n",
      "entrepreneur     1487\n",
      "unemployed       1303\n",
      "housemaid        1240\n",
      "student           938\n",
      "unknown           288\n",
      "Name: job, dtype: int64\n",
      "~~~~~\n",
      "column name: marital\n",
      "married     27214\n",
      "single      12790\n",
      "divorced     5207\n",
      "Name: marital, dtype: int64\n",
      "~~~~~\n",
      "column name: education\n",
      "secondary    23202\n",
      "tertiary     13301\n",
      "primary       6851\n",
      "unknown       1857\n",
      "Name: education, dtype: int64\n",
      "~~~~~\n",
      "column name: default\n",
      "no     44396\n",
      "yes      815\n",
      "Name: default, dtype: int64\n",
      "~~~~~\n",
      "column name: housing\n",
      "yes    25130\n",
      "no     20081\n",
      "Name: housing, dtype: int64\n",
      "~~~~~\n",
      "column name: loan\n",
      "no     37967\n",
      "yes     7244\n",
      "Name: loan, dtype: int64\n",
      "~~~~~\n",
      "column name: contact\n",
      "cellular     29285\n",
      "unknown      13020\n",
      "telephone     2906\n",
      "Name: contact, dtype: int64\n",
      "~~~~~\n",
      "column name: month\n",
      "may    13766\n",
      "jul     6895\n",
      "aug     6247\n",
      "jun     5341\n",
      "nov     3970\n",
      "apr     2932\n",
      "feb     2649\n",
      "jan     1403\n",
      "oct      738\n",
      "sep      579\n",
      "mar      477\n",
      "dec      214\n",
      "Name: month, dtype: int64\n",
      "~~~~~\n",
      "column name: poutcome\n",
      "unknown    36959\n",
      "failure     4901\n",
      "other       1840\n",
      "success     1511\n",
      "Name: poutcome, dtype: int64\n",
      "~~~~~\n",
      "column name: y\n",
      "no     39922\n",
      "yes     5289\n",
      "Name: y, dtype: int64\n",
      "~~~~~\n"
     ]
    }
   ],
   "source": [
    "for col in cat_var:\n",
    "    print('column name:',col)\n",
    "    print(df[col].value_counts())\n",
    "    print('~~~~~')"
   ]
  },
  {
   "cell_type": "code",
   "execution_count": 25,
   "id": "75cc929f",
   "metadata": {},
   "outputs": [
    {
     "data": {
      "text/html": [
       "<div><div id=c03e7739-6334-49eb-881d-84c640c7fa0b style=\"display:none; background-color:#9D6CFF; color:white; width:200px; height:30px; padding-left:5px; border-radius:4px; flex-direction:row; justify-content:space-around; align-items:center;\" onmouseover=\"this.style.backgroundColor='#BA9BF8'\" onmouseout=\"this.style.backgroundColor='#9D6CFF'\" onclick=\"window.commands?.execute('create-mitosheet-from-dataframe-output');\">See Full Dataframe in Mito</div> <script> if (window.commands?.hasCommand('create-mitosheet-from-dataframe-output')) document.getElementById('c03e7739-6334-49eb-881d-84c640c7fa0b').style.display = 'flex' </script> <table border=\"1\" class=\"dataframe\">\n",
       "  <thead>\n",
       "    <tr style=\"text-align: right;\">\n",
       "      <th></th>\n",
       "      <th></th>\n",
       "      <th>age</th>\n",
       "      <th>balance</th>\n",
       "      <th>day</th>\n",
       "      <th>duration</th>\n",
       "      <th>campaign</th>\n",
       "      <th>pdays</th>\n",
       "      <th>previous</th>\n",
       "    </tr>\n",
       "    <tr>\n",
       "      <th>housing</th>\n",
       "      <th>loan</th>\n",
       "      <th></th>\n",
       "      <th></th>\n",
       "      <th></th>\n",
       "      <th></th>\n",
       "      <th></th>\n",
       "      <th></th>\n",
       "      <th></th>\n",
       "    </tr>\n",
       "  </thead>\n",
       "  <tbody>\n",
       "    <tr>\n",
       "      <th rowspan=\"2\" valign=\"top\">no</th>\n",
       "      <th>no</th>\n",
       "      <td>43.260695</td>\n",
       "      <td>1737.606719</td>\n",
       "      <td>16.062427</td>\n",
       "      <td>257.923971</td>\n",
       "      <td>2.823123</td>\n",
       "      <td>27.870495</td>\n",
       "      <td>0.510986</td>\n",
       "    </tr>\n",
       "    <tr>\n",
       "      <th>yes</th>\n",
       "      <td>42.417449</td>\n",
       "      <td>752.713243</td>\n",
       "      <td>16.093848</td>\n",
       "      <td>249.387209</td>\n",
       "      <td>2.980188</td>\n",
       "      <td>16.828989</td>\n",
       "      <td>0.328120</td>\n",
       "    </tr>\n",
       "    <tr>\n",
       "      <th rowspan=\"2\" valign=\"top\">yes</th>\n",
       "      <th>no</th>\n",
       "      <td>39.142947</td>\n",
       "      <td>1256.407793</td>\n",
       "      <td>15.518711</td>\n",
       "      <td>260.914271</td>\n",
       "      <td>2.690026</td>\n",
       "      <td>52.231855</td>\n",
       "      <td>0.658094</td>\n",
       "    </tr>\n",
       "    <tr>\n",
       "      <th>yes</th>\n",
       "      <td>39.329059</td>\n",
       "      <td>788.537898</td>\n",
       "      <td>15.976414</td>\n",
       "      <td>251.806045</td>\n",
       "      <td>2.738722</td>\n",
       "      <td>46.941379</td>\n",
       "      <td>0.649874</td>\n",
       "    </tr>\n",
       "  </tbody>\n",
       "</table></div>"
      ],
      "text/plain": [
       "                    age      balance        day    duration  campaign  \\\n",
       "housing loan                                                            \n",
       "no      no    43.260695  1737.606719  16.062427  257.923971  2.823123   \n",
       "        yes   42.417449   752.713243  16.093848  249.387209  2.980188   \n",
       "yes     no    39.142947  1256.407793  15.518711  260.914271  2.690026   \n",
       "        yes   39.329059   788.537898  15.976414  251.806045  2.738722   \n",
       "\n",
       "                  pdays  previous  \n",
       "housing loan                       \n",
       "no      no    27.870495  0.510986  \n",
       "        yes   16.828989  0.328120  \n",
       "yes     no    52.231855  0.658094  \n",
       "        yes   46.941379  0.649874  "
      ]
     },
     "execution_count": 25,
     "metadata": {},
     "output_type": "execute_result"
    }
   ],
   "source": [
    "df.groupby(['housing','loan']).mean()"
   ]
  },
  {
   "cell_type": "code",
   "execution_count": 26,
   "id": "9291726b",
   "metadata": {},
   "outputs": [
    {
     "data": {
      "text/html": [
       "<div><div id=e132cac5-63e4-458c-b838-759d1fcb31ef style=\"display:none; background-color:#9D6CFF; color:white; width:200px; height:30px; padding-left:5px; border-radius:4px; flex-direction:row; justify-content:space-around; align-items:center;\" onmouseover=\"this.style.backgroundColor='#BA9BF8'\" onmouseout=\"this.style.backgroundColor='#9D6CFF'\" onclick=\"window.commands?.execute('create-mitosheet-from-dataframe-output');\">See Full Dataframe in Mito</div> <script> if (window.commands?.hasCommand('create-mitosheet-from-dataframe-output')) document.getElementById('e132cac5-63e4-458c-b838-759d1fcb31ef').style.display = 'flex' </script> <table border=\"1\" class=\"dataframe\">\n",
       "  <thead>\n",
       "    <tr style=\"text-align: right;\">\n",
       "      <th></th>\n",
       "      <th>age</th>\n",
       "      <th>balance</th>\n",
       "      <th>day</th>\n",
       "      <th>duration</th>\n",
       "      <th>campaign</th>\n",
       "      <th>pdays</th>\n",
       "      <th>previous</th>\n",
       "    </tr>\n",
       "    <tr>\n",
       "      <th>job</th>\n",
       "      <th></th>\n",
       "      <th></th>\n",
       "      <th></th>\n",
       "      <th></th>\n",
       "      <th></th>\n",
       "      <th></th>\n",
       "      <th></th>\n",
       "    </tr>\n",
       "  </thead>\n",
       "  <tbody>\n",
       "    <tr>\n",
       "      <th>admin.</th>\n",
       "      <td>39.289886</td>\n",
       "      <td>1135.838909</td>\n",
       "      <td>15.564301</td>\n",
       "      <td>246.896732</td>\n",
       "      <td>2.575324</td>\n",
       "      <td>47.859021</td>\n",
       "      <td>0.671630</td>\n",
       "    </tr>\n",
       "    <tr>\n",
       "      <th>blue-collar</th>\n",
       "      <td>40.044081</td>\n",
       "      <td>1078.826654</td>\n",
       "      <td>15.442561</td>\n",
       "      <td>262.901562</td>\n",
       "      <td>2.816995</td>\n",
       "      <td>44.033498</td>\n",
       "      <td>0.505138</td>\n",
       "    </tr>\n",
       "    <tr>\n",
       "      <th>entrepreneur</th>\n",
       "      <td>42.190989</td>\n",
       "      <td>1521.470074</td>\n",
       "      <td>15.702085</td>\n",
       "      <td>256.309348</td>\n",
       "      <td>2.799597</td>\n",
       "      <td>32.486214</td>\n",
       "      <td>0.478144</td>\n",
       "    </tr>\n",
       "    <tr>\n",
       "      <th>housemaid</th>\n",
       "      <td>46.415323</td>\n",
       "      <td>1392.395161</td>\n",
       "      <td>16.002419</td>\n",
       "      <td>245.825000</td>\n",
       "      <td>2.820968</td>\n",
       "      <td>21.505645</td>\n",
       "      <td>0.371774</td>\n",
       "    </tr>\n",
       "    <tr>\n",
       "      <th>management</th>\n",
       "      <td>40.449567</td>\n",
       "      <td>1763.616832</td>\n",
       "      <td>16.114189</td>\n",
       "      <td>253.995771</td>\n",
       "      <td>2.864348</td>\n",
       "      <td>38.665468</td>\n",
       "      <td>0.668006</td>\n",
       "    </tr>\n",
       "    <tr>\n",
       "      <th>...</th>\n",
       "      <td>...</td>\n",
       "      <td>...</td>\n",
       "      <td>...</td>\n",
       "      <td>...</td>\n",
       "      <td>...</td>\n",
       "      <td>...</td>\n",
       "      <td>...</td>\n",
       "    </tr>\n",
       "    <tr>\n",
       "      <th>services</th>\n",
       "      <td>38.740250</td>\n",
       "      <td>997.088108</td>\n",
       "      <td>15.635532</td>\n",
       "      <td>259.318729</td>\n",
       "      <td>2.718344</td>\n",
       "      <td>41.995185</td>\n",
       "      <td>0.501204</td>\n",
       "    </tr>\n",
       "    <tr>\n",
       "      <th>student</th>\n",
       "      <td>26.542644</td>\n",
       "      <td>1388.060768</td>\n",
       "      <td>14.897655</td>\n",
       "      <td>246.656716</td>\n",
       "      <td>2.299574</td>\n",
       "      <td>57.041578</td>\n",
       "      <td>0.953092</td>\n",
       "    </tr>\n",
       "    <tr>\n",
       "      <th>technician</th>\n",
       "      <td>39.314598</td>\n",
       "      <td>1252.632092</td>\n",
       "      <td>16.408582</td>\n",
       "      <td>252.904962</td>\n",
       "      <td>2.906805</td>\n",
       "      <td>37.195077</td>\n",
       "      <td>0.574569</td>\n",
       "    </tr>\n",
       "    <tr>\n",
       "      <th>unemployed</th>\n",
       "      <td>40.961627</td>\n",
       "      <td>1521.745971</td>\n",
       "      <td>15.498081</td>\n",
       "      <td>288.543361</td>\n",
       "      <td>2.432080</td>\n",
       "      <td>34.146585</td>\n",
       "      <td>0.466616</td>\n",
       "    </tr>\n",
       "    <tr>\n",
       "      <th>unknown</th>\n",
       "      <td>47.593750</td>\n",
       "      <td>1772.357639</td>\n",
       "      <td>14.642361</td>\n",
       "      <td>237.611111</td>\n",
       "      <td>3.309028</td>\n",
       "      <td>20.982639</td>\n",
       "      <td>0.319444</td>\n",
       "    </tr>\n",
       "  </tbody>\n",
       "</table></div>"
      ],
      "text/plain": [
       "                     age      balance        day    duration  campaign  \\\n",
       "job                                                                      \n",
       "admin.         39.289886  1135.838909  15.564301  246.896732  2.575324   \n",
       "blue-collar    40.044081  1078.826654  15.442561  262.901562  2.816995   \n",
       "entrepreneur   42.190989  1521.470074  15.702085  256.309348  2.799597   \n",
       "housemaid      46.415323  1392.395161  16.002419  245.825000  2.820968   \n",
       "management     40.449567  1763.616832  16.114189  253.995771  2.864348   \n",
       "retired        61.626767  1984.215106  15.439488  287.361307  2.346731   \n",
       "self-employed  40.484484  1647.970868  16.027866  268.157061  2.853072   \n",
       "services       38.740250   997.088108  15.635532  259.318729  2.718344   \n",
       "student        26.542644  1388.060768  14.897655  246.656716  2.299574   \n",
       "technician     39.314598  1252.632092  16.408582  252.904962  2.906805   \n",
       "unemployed     40.961627  1521.745971  15.498081  288.543361  2.432080   \n",
       "unknown        47.593750  1772.357639  14.642361  237.611111  3.309028   \n",
       "\n",
       "                   pdays  previous  \n",
       "job                                 \n",
       "admin.         47.859021  0.671630  \n",
       "blue-collar    44.033498  0.505138  \n",
       "entrepreneur   32.486214  0.478144  \n",
       "housemaid      21.505645  0.371774  \n",
       "management     38.665468  0.668006  \n",
       "retired        37.443905  0.638693  \n",
       "self-employed  34.747308  0.551615  \n",
       "services       41.995185  0.501204  \n",
       "student        57.041578  0.953092  \n",
       "technician     37.195077  0.574569  \n",
       "unemployed     34.146585  0.466616  \n",
       "unknown        20.982639  0.319444  "
      ]
     },
     "execution_count": 26,
     "metadata": {},
     "output_type": "execute_result"
    }
   ],
   "source": [
    "df.groupby(['job']).mean()"
   ]
  },
  {
   "cell_type": "code",
   "execution_count": 27,
   "id": "21e91eaf",
   "metadata": {},
   "outputs": [
    {
     "name": "stderr",
     "output_type": "stream",
     "text": [
      "C:\\Users\\aruna\\AppData\\Local\\Temp\\ipykernel_2552\\3069085884.py:1: FutureWarning: Indexing with multiple keys (implicitly converted to a tuple of keys) will be deprecated, use a list instead.\n",
      "  df.groupby(['housing','loan'])['balance','age'].mean()\n"
     ]
    },
    {
     "data": {
      "text/html": [
       "<div><div id=522ff2f8-2840-4f17-9201-daa12a4a43c4 style=\"display:none; background-color:#9D6CFF; color:white; width:200px; height:30px; padding-left:5px; border-radius:4px; flex-direction:row; justify-content:space-around; align-items:center;\" onmouseover=\"this.style.backgroundColor='#BA9BF8'\" onmouseout=\"this.style.backgroundColor='#9D6CFF'\" onclick=\"window.commands?.execute('create-mitosheet-from-dataframe-output');\">See Full Dataframe in Mito</div> <script> if (window.commands?.hasCommand('create-mitosheet-from-dataframe-output')) document.getElementById('522ff2f8-2840-4f17-9201-daa12a4a43c4').style.display = 'flex' </script> <table border=\"1\" class=\"dataframe\">\n",
       "  <thead>\n",
       "    <tr style=\"text-align: right;\">\n",
       "      <th></th>\n",
       "      <th></th>\n",
       "      <th>balance</th>\n",
       "      <th>age</th>\n",
       "    </tr>\n",
       "    <tr>\n",
       "      <th>housing</th>\n",
       "      <th>loan</th>\n",
       "      <th></th>\n",
       "      <th></th>\n",
       "    </tr>\n",
       "  </thead>\n",
       "  <tbody>\n",
       "    <tr>\n",
       "      <th rowspan=\"2\" valign=\"top\">no</th>\n",
       "      <th>no</th>\n",
       "      <td>1737.606719</td>\n",
       "      <td>43.260695</td>\n",
       "    </tr>\n",
       "    <tr>\n",
       "      <th>yes</th>\n",
       "      <td>752.713243</td>\n",
       "      <td>42.417449</td>\n",
       "    </tr>\n",
       "    <tr>\n",
       "      <th rowspan=\"2\" valign=\"top\">yes</th>\n",
       "      <th>no</th>\n",
       "      <td>1256.407793</td>\n",
       "      <td>39.142947</td>\n",
       "    </tr>\n",
       "    <tr>\n",
       "      <th>yes</th>\n",
       "      <td>788.537898</td>\n",
       "      <td>39.329059</td>\n",
       "    </tr>\n",
       "  </tbody>\n",
       "</table></div>"
      ],
      "text/plain": [
       "                  balance        age\n",
       "housing loan                        \n",
       "no      no    1737.606719  43.260695\n",
       "        yes    752.713243  42.417449\n",
       "yes     no    1256.407793  39.142947\n",
       "        yes    788.537898  39.329059"
      ]
     },
     "execution_count": 27,
     "metadata": {},
     "output_type": "execute_result"
    }
   ],
   "source": [
    "df.groupby(['housing','loan'])['balance','age'].mean()"
   ]
  },
  {
   "cell_type": "code",
   "execution_count": 28,
   "id": "d8954410",
   "metadata": {},
   "outputs": [
    {
     "data": {
      "text/html": [
       "<div><div id=eb6df643-5ce8-4905-bffb-482ca8d363c6 style=\"display:none; background-color:#9D6CFF; color:white; width:200px; height:30px; padding-left:5px; border-radius:4px; flex-direction:row; justify-content:space-around; align-items:center;\" onmouseover=\"this.style.backgroundColor='#BA9BF8'\" onmouseout=\"this.style.backgroundColor='#9D6CFF'\" onclick=\"window.commands?.execute('create-mitosheet-from-dataframe-output');\">See Full Dataframe in Mito</div> <script> if (window.commands?.hasCommand('create-mitosheet-from-dataframe-output')) document.getElementById('eb6df643-5ce8-4905-bffb-482ca8d363c6').style.display = 'flex' </script> <table border=\"1\" class=\"dataframe\">\n",
       "  <thead>\n",
       "    <tr>\n",
       "      <th></th>\n",
       "      <th colspan=\"2\" halign=\"left\">age</th>\n",
       "    </tr>\n",
       "    <tr>\n",
       "      <th>housing</th>\n",
       "      <th>no</th>\n",
       "      <th>yes</th>\n",
       "    </tr>\n",
       "    <tr>\n",
       "      <th>loan</th>\n",
       "      <th></th>\n",
       "      <th></th>\n",
       "    </tr>\n",
       "  </thead>\n",
       "  <tbody>\n",
       "    <tr>\n",
       "      <th>no</th>\n",
       "      <td>43.260695</td>\n",
       "      <td>39.142947</td>\n",
       "    </tr>\n",
       "    <tr>\n",
       "      <th>yes</th>\n",
       "      <td>42.417449</td>\n",
       "      <td>39.329059</td>\n",
       "    </tr>\n",
       "  </tbody>\n",
       "</table></div>"
      ],
      "text/plain": [
       "               age           \n",
       "housing         no        yes\n",
       "loan                         \n",
       "no       43.260695  39.142947\n",
       "yes      42.417449  39.329059"
      ]
     },
     "execution_count": 28,
     "metadata": {},
     "output_type": "execute_result"
    }
   ],
   "source": [
    "pd.pivot_table(df,\n",
    "               values=['age'], # on what variable \n",
    "               index=['loan'], \n",
    "               columns=['housing'],\n",
    "               aggfunc='mean')"
   ]
  },
  {
   "cell_type": "code",
   "execution_count": 29,
   "id": "9e4d1350",
   "metadata": {},
   "outputs": [],
   "source": [
    "# how to get any age across different categories of jobs\n",
    "## e.g. what is the 2nd highest age across different categories of jobs\n",
    "\n",
    "# what is apply function, make some functional examples for its usage on dataframe"
   ]
  },
  {
   "cell_type": "code",
   "execution_count": 30,
   "id": "66ce0c17",
   "metadata": {},
   "outputs": [],
   "source": [
    "# base visualisation library = matplotlib\n",
    "# package on top of matplotlib : seaborn [makes code much less verbose]\n",
    "# ggplot : but its broken for python and hasnt been in active development\n",
    "# advanced D3.js , plotly , bokeh "
   ]
  },
  {
   "cell_type": "markdown",
   "id": "0a46ff77",
   "metadata": {},
   "source": [
    "# Seaborn"
   ]
  },
  {
   "cell_type": "code",
   "execution_count": 31,
   "id": "1bb51b00",
   "metadata": {},
   "outputs": [
    {
     "name": "stdout",
     "output_type": "stream",
     "text": [
      "Requirement already satisfied: seaborn in c:\\users\\aruna\\appdata\\local\\programs\\python\\python310\\lib\\site-packages (0.11.2)\n",
      "Requirement already satisfied: matplotlib>=2.2 in c:\\users\\aruna\\appdata\\local\\programs\\python\\python310\\lib\\site-packages (from seaborn) (3.5.1)\n",
      "Requirement already satisfied: pandas>=0.23 in c:\\users\\aruna\\appdata\\local\\programs\\python\\python310\\lib\\site-packages (from seaborn) (1.4.0)\n",
      "Requirement already satisfied: scipy>=1.0 in c:\\users\\aruna\\appdata\\local\\programs\\python\\python310\\lib\\site-packages (from seaborn) (1.8.0)\n",
      "Requirement already satisfied: numpy>=1.15 in c:\\users\\aruna\\appdata\\local\\programs\\python\\python310\\lib\\site-packages (from seaborn) (1.22.3)\n",
      "Requirement already satisfied: fonttools>=4.22.0 in c:\\users\\aruna\\appdata\\local\\programs\\python\\python310\\lib\\site-packages (from matplotlib>=2.2->seaborn) (4.29.1)\n",
      "Requirement already satisfied: python-dateutil>=2.7 in c:\\users\\aruna\\appdata\\local\\programs\\python\\python310\\lib\\site-packages (from matplotlib>=2.2->seaborn) (2.8.2)\n",
      "Requirement already satisfied: packaging>=20.0 in c:\\users\\aruna\\appdata\\local\\programs\\python\\python310\\lib\\site-packages (from matplotlib>=2.2->seaborn) (21.3)\n",
      "Requirement already satisfied: kiwisolver>=1.0.1 in c:\\users\\aruna\\appdata\\local\\programs\\python\\python310\\lib\\site-packages (from matplotlib>=2.2->seaborn) (1.3.2)\n",
      "Requirement already satisfied: pyparsing>=2.2.1 in c:\\users\\aruna\\appdata\\local\\programs\\python\\python310\\lib\\site-packages (from matplotlib>=2.2->seaborn) (3.0.7)\n",
      "Requirement already satisfied: pillow>=6.2.0 in c:\\users\\aruna\\appdata\\local\\programs\\python\\python310\\lib\\site-packages (from matplotlib>=2.2->seaborn) (8.4.0)\n",
      "Requirement already satisfied: cycler>=0.10 in c:\\users\\aruna\\appdata\\local\\programs\\python\\python310\\lib\\site-packages (from matplotlib>=2.2->seaborn) (0.11.0)\n",
      "Requirement already satisfied: pytz>=2020.1 in c:\\users\\aruna\\appdata\\local\\programs\\python\\python310\\lib\\site-packages (from pandas>=0.23->seaborn) (2021.3)\n",
      "Requirement already satisfied: six>=1.5 in c:\\users\\aruna\\appdata\\local\\programs\\python\\python310\\lib\\site-packages (from python-dateutil>=2.7->matplotlib>=2.2->seaborn) (1.16.0)\n",
      "Note: you may need to restart the kernel to use updated packages.\n"
     ]
    }
   ],
   "source": [
    "pip install seaborn"
   ]
  },
  {
   "cell_type": "code",
   "execution_count": 32,
   "id": "503e1e75",
   "metadata": {},
   "outputs": [],
   "source": [
    "import seaborn as sns\n",
    "%matplotlib inline \n",
    "#it makes the plots appear in the notebook"
   ]
  },
  {
   "cell_type": "markdown",
   "id": "3563c9ba",
   "metadata": {},
   "source": [
    " Single numeric: density,histograms,boxplots\n",
    " \n",
    " Num-Num: Scatter\n",
    " \n",
    " Single categorical: Frequency\n",
    " \n",
    " Num-Cat : "
   ]
  },
  {
   "cell_type": "markdown",
   "id": "e8b3d7fd",
   "metadata": {},
   "source": [
    "# Single Numeric Column"
   ]
  },
  {
   "cell_type": "code",
   "execution_count": 33,
   "id": "0c17b651",
   "metadata": {},
   "outputs": [
    {
     "name": "stderr",
     "output_type": "stream",
     "text": [
      "C:\\Users\\aruna\\AppData\\Local\\Programs\\Python\\Python310\\lib\\site-packages\\seaborn\\distributions.py:2619: FutureWarning: `distplot` is a deprecated function and will be removed in a future version. Please adapt your code to use either `displot` (a figure-level function with similar flexibility) or `kdeplot` (an axes-level function for kernel density plots).\n",
      "  warnings.warn(msg, FutureWarning)\n"
     ]
    },
    {
     "data": {
      "image/png": "[encoded data removed]",
      "text/plain": [
       "<Figure size 432x288 with 1 Axes>"
      ]
     },
     "metadata": {
      "needs_background": "light"
     },
     "output_type": "display_data"
    }
   ],
   "source": [
    "myplot=sns.distplot(df['balance'],kde=True,norm_hist=False,bins=100,hist=False)"
   ]
  },
  {
   "cell_type": "code",
   "execution_count": 34,
   "id": "5d16335f",
   "metadata": {},
   "outputs": [],
   "source": [
    "myimg1=myplot.get_figure()"
   ]
  },
  {
   "cell_type": "code",
   "execution_count": 35,
   "id": "a4f5aceb",
   "metadata": {},
   "outputs": [],
   "source": [
    "myimg1.savefig('output1') #.png"
   ]
  },
  {
   "cell_type": "code",
   "execution_count": 36,
   "id": "ce41b3ff",
   "metadata": {},
   "outputs": [
    {
     "data": {
      "text/plain": [
       "count     45211.000000\n",
       "mean       1362.272058\n",
       "std        3044.765829\n",
       "min       -8019.000000\n",
       "25%          72.000000\n",
       "50%         448.000000\n",
       "75%        1428.000000\n",
       "max      102127.000000\n",
       "Name: balance, dtype: float64"
      ]
     },
     "execution_count": 36,
     "metadata": {},
     "output_type": "execute_result"
    }
   ],
   "source": [
    "df['balance'].describe()"
   ]
  },
  {
   "cell_type": "code",
   "execution_count": 37,
   "id": "bd40d4d6",
   "metadata": {},
   "outputs": [
    {
     "data": {
      "text/plain": [
       "<AxesSubplot:xlabel='age', ylabel='Density'>"
      ]
     },
     "execution_count": 37,
     "metadata": {},
     "output_type": "execute_result"
    },
    {
     "data": {
      "image/png": "[encoded data removed]",
      "text/plain": [
       "<Figure size 432x288 with 1 Axes>"
      ]
     },
     "metadata": {
      "needs_background": "light"
     },
     "output_type": "display_data"
    }
   ],
   "source": [
    "sns.kdeplot(df['age'],shade=True)\n",
    "sns.kdeplot(df['pdays'],shade=True)"
   ]
  },
  {
   "cell_type": "code",
   "execution_count": 38,
   "id": "5eac839f",
   "metadata": {},
   "outputs": [
    {
     "data": {
      "text/plain": [
       "<AxesSubplot:ylabel='age'>"
      ]
     },
     "execution_count": 38,
     "metadata": {},
     "output_type": "execute_result"
    },
    {
     "data": {
      "image/png": "[encoded data removed]",
      "text/plain": [
       "<Figure size 432x288 with 1 Axes>"
      ]
     },
     "metadata": {
      "needs_background": "light"
     },
     "output_type": "display_data"
    }
   ],
   "source": [
    "sns.boxplot(y='age',data=df) #good for checking presence of extreme points"
   ]
  },
  {
   "cell_type": "code",
   "execution_count": 39,
   "id": "99e51614",
   "metadata": {},
   "outputs": [
    {
     "data": {
      "text/plain": [
       "<AxesSubplot:ylabel='age'>"
      ]
     },
     "execution_count": 39,
     "metadata": {},
     "output_type": "execute_result"
    },
    {
     "data": {
      "image/png": "[encoded data removed]",
      "text/plain": [
       "<Figure size 432x288 with 1 Axes>"
      ]
     },
     "metadata": {
      "needs_background": "light"
     },
     "output_type": "display_data"
    }
   ],
   "source": [
    "sns.violinplot(y='age',data=df) #mirror image of density curve\n",
    "#Not preferred"
   ]
  },
  {
   "cell_type": "markdown",
   "id": "c429b1d7",
   "metadata": {},
   "source": [
    "# numeric-numeric"
   ]
  },
  {
   "cell_type": "code",
   "execution_count": 40,
   "id": "f4b7e35c",
   "metadata": {},
   "outputs": [
    {
     "data": {
      "text/plain": [
       "<seaborn.axisgrid.JointGrid at 0x197aef73d30>"
      ]
     },
     "execution_count": 40,
     "metadata": {},
     "output_type": "execute_result"
    },
    {
     "data": {
      "image/png": "[encoded data removed]",
      "text/plain": [
       "<Figure size 432x432 with 3 Axes>"
      ]
     },
     "metadata": {
      "needs_background": "light"
     },
     "output_type": "display_data"
    }
   ],
   "source": [
    "sns.jointplot(x=\"age\", y=\"balance\", data=df)\n",
    "# scatter plot , dot plots"
   ]
  },
  {
   "cell_type": "code",
   "execution_count": 41,
   "id": "f1e78c65",
   "metadata": {},
   "outputs": [
    {
     "name": "stderr",
     "output_type": "stream",
     "text": [
      "C:\\Users\\aruna\\AppData\\Local\\Programs\\Python\\Python310\\lib\\site-packages\\seaborn\\axisgrid.py:2182: UserWarning: The `size` parameter has been renamed to `height`; please update your code.\n",
      "  warnings.warn(msg, UserWarning)\n"
     ]
    },
    {
     "data": {
      "text/plain": [
       "<seaborn.axisgrid.JointGrid at 0x197aef2ba60>"
      ]
     },
     "execution_count": 41,
     "metadata": {},
     "output_type": "execute_result"
    },
    {
     "data": {
      "image/png": "[encoded data removed]",
      "text/plain": [
       "<Figure size 720x720 with 3 Axes>"
      ]
     },
     "metadata": {
      "needs_background": "light"
     },
     "output_type": "display_data"
    }
   ],
   "source": [
    "sns.jointplot(x=\"age\", y=\"balance\", data=df.iloc[:1000,:],\n",
    "              kind=\"hex\",size=10,color=\"g\")\n",
    "# used subset of data to see a more clear plot"
   ]
  },
  {
   "cell_type": "code",
   "execution_count": 42,
   "id": "16241140",
   "metadata": {},
   "outputs": [
    {
     "name": "stderr",
     "output_type": "stream",
     "text": [
      "C:\\Users\\aruna\\AppData\\Local\\Programs\\Python\\Python310\\lib\\site-packages\\seaborn\\_decorators.py:36: FutureWarning: Pass the following variables as keyword args: x, y. From version 0.12, the only valid positional argument will be `data`, and passing other arguments without an explicit keyword will result in an error or misinterpretation.\n",
      "  warnings.warn(\n"
     ]
    },
    {
     "data": {
      "text/plain": [
       "<seaborn.axisgrid.FacetGrid at 0x197b06287c0>"
      ]
     },
     "execution_count": 42,
     "metadata": {},
     "output_type": "execute_result"
    },
    {
     "data": {
      "image/png": "[encoded data removed]",
      "text/plain": [
       "<Figure size 360x360 with 1 Axes>"
      ]
     },
     "metadata": {
      "needs_background": "light"
     },
     "output_type": "display_data"
    }
   ],
   "source": [
    "sns.lmplot('age', 'balance', \n",
    "           data=df.iloc[1:200,:],palette=\"Set5\",\n",
    "           fit_reg=True,order=2)"
   ]
  },
  {
   "cell_type": "code",
   "execution_count": 43,
   "id": "96e7e247",
   "metadata": {},
   "outputs": [
    {
     "name": "stderr",
     "output_type": "stream",
     "text": [
      "C:\\Users\\aruna\\AppData\\Local\\Programs\\Python\\Python310\\lib\\site-packages\\seaborn\\_decorators.py:36: FutureWarning: Pass the following variables as keyword args: x, y. From version 0.12, the only valid positional argument will be `data`, and passing other arguments without an explicit keyword will result in an error or misinterpretation.\n",
      "  warnings.warn(\n"
     ]
    },
    {
     "data": {
      "text/plain": [
       "<seaborn.axisgrid.FacetGrid at 0x19790465de0>"
      ]
     },
     "execution_count": 43,
     "metadata": {},
     "output_type": "execute_result"
    },
    {
     "data": {
      "image/png": "[encoded data removed]",
      "text/plain": [
       "<Figure size 773.25x720 with 4 Axes>"
      ]
     },
     "metadata": {
      "needs_background": "light"
     },
     "output_type": "display_data"
    }
   ],
   "source": [
    "sns.lmplot('age', 'balance', \n",
    "           data=df.iloc[1:500,:],palette=\"Set1\",\n",
    "           hue='housing',\n",
    "           col='default',\n",
    "           row='loan',\n",
    "           fit_reg=True)"
   ]
  },
  {
   "cell_type": "markdown",
   "id": "5b801ac8",
   "metadata": {},
   "source": [
    "# categorical"
   ]
  },
  {
   "cell_type": "code",
   "execution_count": 44,
   "id": "561b0106",
   "metadata": {},
   "outputs": [
    {
     "data": {
      "text/plain": [
       "<AxesSubplot:xlabel='education', ylabel='count'>"
      ]
     },
     "execution_count": 44,
     "metadata": {},
     "output_type": "execute_result"
    },
    {
     "data": {
      "image/png": "[encoded data removed]",
      "text/plain": [
       "<Figure size 432x288 with 1 Axes>"
      ]
     },
     "metadata": {
      "needs_background": "light"
     },
     "output_type": "display_data"
    }
   ],
   "source": [
    "sns.countplot(x='education',data=df)"
   ]
  },
  {
   "cell_type": "code",
   "execution_count": 45,
   "id": "fc59b646",
   "metadata": {},
   "outputs": [
    {
     "data": {
      "text/plain": [
       "<AxesSubplot:xlabel='education', ylabel='count'>"
      ]
     },
     "execution_count": 45,
     "metadata": {},
     "output_type": "execute_result"
    },
    {
     "data": {
      "image/png": "[encoded data removed]",
      "text/plain": [
       "<Figure size 432x288 with 1 Axes>"
      ]
     },
     "metadata": {
      "needs_background": "light"
     },
     "output_type": "display_data"
    }
   ],
   "source": [
    "sns.countplot(x='education',data=df,hue='loan')\n",
    "\n",
    "#check if countplot also support row and column arguments\n",
    "#like lmplot"
   ]
  },
  {
   "cell_type": "markdown",
   "id": "1618f4c1",
   "metadata": {},
   "source": [
    "# Numeric Categorical"
   ]
  },
  {
   "cell_type": "code",
   "execution_count": 46,
   "id": "617717db",
   "metadata": {},
   "outputs": [
    {
     "data": {
      "text/plain": [
       "<AxesSubplot:xlabel='age'>"
      ]
     },
     "execution_count": 46,
     "metadata": {},
     "output_type": "execute_result"
    },
    {
     "data": {
      "image/png": "[encoded data removed]",
      "text/plain": [
       "<Figure size 432x288 with 1 Axes>"
      ]
     },
     "metadata": {
      "needs_background": "light"
     },
     "output_type": "display_data"
    }
   ],
   "source": [
    "sns.boxplot(x='age',data=df)"
   ]
  },
  {
   "cell_type": "code",
   "execution_count": 47,
   "id": "47b7100c",
   "metadata": {},
   "outputs": [
    {
     "data": {
      "text/plain": [
       "<AxesSubplot:xlabel='age', ylabel='education'>"
      ]
     },
     "execution_count": 47,
     "metadata": {},
     "output_type": "execute_result"
    },
    {
     "data": {
      "image/png": "[encoded data removed]",
      "text/plain": [
       "<Figure size 432x288 with 1 Axes>"
      ]
     },
     "metadata": {
      "needs_background": "light"
     },
     "output_type": "display_data"
    }
   ],
   "source": [
    "sns.boxplot(x='age',y='education',data=df)"
   ]
  },
  {
   "cell_type": "markdown",
   "id": "c6bf539b",
   "metadata": {},
   "source": [
    "# Heatmaps"
   ]
  },
  {
   "cell_type": "code",
   "execution_count": 48,
   "id": "9edbf1f4",
   "metadata": {},
   "outputs": [
    {
     "data": {
      "text/html": [
       "<div><div id=fd290347-896c-4fde-8b99-8fa316961084 style=\"display:none; background-color:#9D6CFF; color:white; width:200px; height:30px; padding-left:5px; border-radius:4px; flex-direction:row; justify-content:space-around; align-items:center;\" onmouseover=\"this.style.backgroundColor='#BA9BF8'\" onmouseout=\"this.style.backgroundColor='#9D6CFF'\" onclick=\"window.commands?.execute('create-mitosheet-from-dataframe-output');\">See Full Dataframe in Mito</div> <script> if (window.commands?.hasCommand('create-mitosheet-from-dataframe-output')) document.getElementById('fd290347-896c-4fde-8b99-8fa316961084').style.display = 'flex' </script> <table border=\"1\" class=\"dataframe\">\n",
       "  <thead>\n",
       "    <tr style=\"text-align: right;\">\n",
       "      <th></th>\n",
       "      <th>age</th>\n",
       "      <th>balance</th>\n",
       "      <th>day</th>\n",
       "      <th>duration</th>\n",
       "      <th>campaign</th>\n",
       "      <th>pdays</th>\n",
       "      <th>previous</th>\n",
       "    </tr>\n",
       "  </thead>\n",
       "  <tbody>\n",
       "    <tr>\n",
       "      <th>age</th>\n",
       "      <td>1.000000</td>\n",
       "      <td>0.097783</td>\n",
       "      <td>-0.009120</td>\n",
       "      <td>-0.004648</td>\n",
       "      <td>0.004760</td>\n",
       "      <td>-0.023758</td>\n",
       "      <td>0.001288</td>\n",
       "    </tr>\n",
       "    <tr>\n",
       "      <th>balance</th>\n",
       "      <td>0.097783</td>\n",
       "      <td>1.000000</td>\n",
       "      <td>0.004503</td>\n",
       "      <td>0.021560</td>\n",
       "      <td>-0.014578</td>\n",
       "      <td>0.003435</td>\n",
       "      <td>0.016674</td>\n",
       "    </tr>\n",
       "    <tr>\n",
       "      <th>day</th>\n",
       "      <td>-0.009120</td>\n",
       "      <td>0.004503</td>\n",
       "      <td>1.000000</td>\n",
       "      <td>-0.030206</td>\n",
       "      <td>0.162490</td>\n",
       "      <td>-0.093044</td>\n",
       "      <td>-0.051710</td>\n",
       "    </tr>\n",
       "    <tr>\n",
       "      <th>duration</th>\n",
       "      <td>-0.004648</td>\n",
       "      <td>0.021560</td>\n",
       "      <td>-0.030206</td>\n",
       "      <td>1.000000</td>\n",
       "      <td>-0.084570</td>\n",
       "      <td>-0.001565</td>\n",
       "      <td>0.001203</td>\n",
       "    </tr>\n",
       "    <tr>\n",
       "      <th>campaign</th>\n",
       "      <td>0.004760</td>\n",
       "      <td>-0.014578</td>\n",
       "      <td>0.162490</td>\n",
       "      <td>-0.084570</td>\n",
       "      <td>1.000000</td>\n",
       "      <td>-0.088628</td>\n",
       "      <td>-0.032855</td>\n",
       "    </tr>\n",
       "    <tr>\n",
       "      <th>pdays</th>\n",
       "      <td>-0.023758</td>\n",
       "      <td>0.003435</td>\n",
       "      <td>-0.093044</td>\n",
       "      <td>-0.001565</td>\n",
       "      <td>-0.088628</td>\n",
       "      <td>1.000000</td>\n",
       "      <td>0.454820</td>\n",
       "    </tr>\n",
       "    <tr>\n",
       "      <th>previous</th>\n",
       "      <td>0.001288</td>\n",
       "      <td>0.016674</td>\n",
       "      <td>-0.051710</td>\n",
       "      <td>0.001203</td>\n",
       "      <td>-0.032855</td>\n",
       "      <td>0.454820</td>\n",
       "      <td>1.000000</td>\n",
       "    </tr>\n",
       "  </tbody>\n",
       "</table></div>"
      ],
      "text/plain": [
       "               age   balance       day  duration  campaign     pdays  previous\n",
       "age       1.000000  0.097783 -0.009120 -0.004648  0.004760 -0.023758  0.001288\n",
       "balance   0.097783  1.000000  0.004503  0.021560 -0.014578  0.003435  0.016674\n",
       "day      -0.009120  0.004503  1.000000 -0.030206  0.162490 -0.093044 -0.051710\n",
       "duration -0.004648  0.021560 -0.030206  1.000000 -0.084570 -0.001565  0.001203\n",
       "campaign  0.004760 -0.014578  0.162490 -0.084570  1.000000 -0.088628 -0.032855\n",
       "pdays    -0.023758  0.003435 -0.093044 -0.001565 -0.088628  1.000000  0.454820\n",
       "previous  0.001288  0.016674 -0.051710  0.001203 -0.032855  0.454820  1.000000"
      ]
     },
     "execution_count": 48,
     "metadata": {},
     "output_type": "execute_result"
    }
   ],
   "source": [
    "df.corr()"
   ]
  },
  {
   "cell_type": "code",
   "execution_count": 49,
   "id": "60aaa559",
   "metadata": {},
   "outputs": [
    {
     "data": {
      "text/plain": [
       "<AxesSubplot:>"
      ]
     },
     "execution_count": 49,
     "metadata": {},
     "output_type": "execute_result"
    },
    {
     "data": {
      "image/png": "[encoded data removed]",
      "text/plain": [
       "<Figure size 432x288 with 2 Axes>"
      ]
     },
     "metadata": {
      "needs_background": "light"
     },
     "output_type": "display_data"
    }
   ],
   "source": [
    "sns.heatmap(df.corr())"
   ]
  },
  {
   "cell_type": "code",
   "execution_count": null,
   "id": "2528713e",
   "metadata": {},
   "outputs": [],
   "source": []
  },
  {
   "cell_type": "code",
   "execution_count": null,
   "id": "c2e2ceef",
   "metadata": {},
   "outputs": [],
   "source": []
  }
 ],
 "metadata": {
  "kernelspec": {
   "display_name": "Python 3 (ipykernel)",
   "language": "python",
   "name": "python3"
  },
  "language_info": {
   "codemirror_mode": {
    "name": "ipython",
    "version": 3
   },
   "file_extension": ".py",
   "mimetype": "text/x-python",
   "name": "python",
   "nbconvert_exporter": "python",
   "pygments_lexer": "ipython3",
   "version": "3.10.0"
  }
 },
 "nbformat": 4,
 "nbformat_minor": 5
}
