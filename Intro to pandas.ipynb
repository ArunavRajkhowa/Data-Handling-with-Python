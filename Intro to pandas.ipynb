{
 "cells": [
  {
   "cell_type": "markdown",
   "id": "1d88c4d2",
   "metadata": {},
   "source": [
    "1. Manually creating dataframes\n",
    "2. Reading data from external file\n",
    "3. peripheral summary of the data\n",
    "4. Subsetting on the basis of rownumber,colnumber\n",
    "5. subsetting on the basis of condition\n",
    "6. subsetting on the basis of column names"
   ]
  },
  {
   "cell_type": "code",
   "execution_count": 1,
   "id": "e4fbd96b",
   "metadata": {},
   "outputs": [],
   "source": [
    "import pandas as pd\n",
    "import numpy as np"
   ]
  },
  {
   "cell_type": "code",
   "execution_count": 18,
   "id": "46bec66b",
   "metadata": {},
   "outputs": [],
   "source": [
    "age=np.random.randint(low=16,high=80,size=[20,])\n",
    "city=np.random.choice(['Mumbai','Jorhat','Delhi','Duliajan'],20)\n",
    "default =np.random.choice([0,1],20)"
   ]
  },
  {
   "cell_type": "markdown",
   "id": "cf77279a",
   "metadata": {},
   "source": [
    "using zip to convert them into a single list of tuples"
   ]
  },
  {
   "cell_type": "code",
   "execution_count": 6,
   "id": "def97e97",
   "metadata": {},
   "outputs": [
    {
     "data": {
      "text/plain": [
       "[(1, 8, 'a'), (2, 9, 'b'), (3, 0, 'c')]"
      ]
     },
     "execution_count": 6,
     "metadata": {},
     "output_type": "execute_result"
    }
   ],
   "source": [
    "a=[1,2,3]\n",
    "b=[8,9,0]\n",
    "c=['a','b','c']\n",
    "list(zip(a,b,c))"
   ]
  },
  {
   "cell_type": "code",
   "execution_count": 8,
   "id": "e60d464b",
   "metadata": {},
   "outputs": [
    {
     "data": {
      "text/plain": [
       "[(49, 'Jorhat', 0),\n",
       " (36, 'Jorhat', 1),\n",
       " (24, 'Duliajan', 0),\n",
       " (52, 'Delhi', 1),\n",
       " (25, 'Mumbai', 1),\n",
       " (37, 'Delhi', 1),\n",
       " (63, 'Duliajan', 0),\n",
       " (70, 'Duliajan', 1),\n",
       " (76, 'Duliajan', 0),\n",
       " (67, 'Mumbai', 1),\n",
       " (37, 'Duliajan', 0),\n",
       " (75, 'Delhi', 0),\n",
       " (74, 'Duliajan', 1),\n",
       " (37, 'Delhi', 0),\n",
       " (70, 'Mumbai', 1),\n",
       " (43, 'Mumbai', 0),\n",
       " (45, 'Jorhat', 0),\n",
       " (23, 'Duliajan', 1),\n",
       " (34, 'Duliajan', 0),\n",
       " (57, 'Delhi', 1)]"
      ]
     },
     "execution_count": 8,
     "metadata": {},
     "output_type": "execute_result"
    }
   ],
   "source": [
    "#one way to check the data. Not recommended coz hard to read\n",
    "mydata=list(zip(age,city,default)) #we get rows of data\n",
    "mydata"
   ]
  },
  {
   "cell_type": "code",
   "execution_count": 20,
   "id": "049d5315",
   "metadata": {},
   "outputs": [
    {
     "data": {
      "text/html": [
       "<div><div id=8b8dbd4c-2fc2-4185-b0f9-88d9b32dfe2a style=\"display:none; background-color:#9D6CFF; color:white; width:200px; height:30px; padding-left:5px; border-radius:4px; flex-direction:row; justify-content:space-around; align-items:center;\" onmouseover=\"this.style.backgroundColor='#BA9BF8'\" onmouseout=\"this.style.backgroundColor='#9D6CFF'\" onclick=\"window.commands?.execute('create-mitosheet-from-dataframe-output');\">See Full Dataframe in Mito</div> <script> if (window.commands?.hasCommand('create-mitosheet-from-dataframe-output')) document.getElementById('8b8dbd4c-2fc2-4185-b0f9-88d9b32dfe2a').style.display = 'flex' </script> <table border=\"1\" class=\"dataframe\">\n",
       "  <thead>\n",
       "    <tr style=\"text-align: right;\">\n",
       "      <th></th>\n",
       "      <th>age</th>\n",
       "      <th>city</th>\n",
       "      <th>default</th>\n",
       "    </tr>\n",
       "  </thead>\n",
       "  <tbody>\n",
       "    <tr>\n",
       "      <th>0</th>\n",
       "      <td>49</td>\n",
       "      <td>Jorhat</td>\n",
       "      <td>0</td>\n",
       "    </tr>\n",
       "    <tr>\n",
       "      <th>1</th>\n",
       "      <td>36</td>\n",
       "      <td>Jorhat</td>\n",
       "      <td>1</td>\n",
       "    </tr>\n",
       "    <tr>\n",
       "      <th>2</th>\n",
       "      <td>24</td>\n",
       "      <td>Duliajan</td>\n",
       "      <td>0</td>\n",
       "    </tr>\n",
       "    <tr>\n",
       "      <th>3</th>\n",
       "      <td>52</td>\n",
       "      <td>Delhi</td>\n",
       "      <td>1</td>\n",
       "    </tr>\n",
       "    <tr>\n",
       "      <th>4</th>\n",
       "      <td>25</td>\n",
       "      <td>Mumbai</td>\n",
       "      <td>1</td>\n",
       "    </tr>\n",
       "    <tr>\n",
       "      <th>...</th>\n",
       "      <td>...</td>\n",
       "      <td>...</td>\n",
       "      <td>...</td>\n",
       "    </tr>\n",
       "    <tr>\n",
       "      <th>15</th>\n",
       "      <td>43</td>\n",
       "      <td>Mumbai</td>\n",
       "      <td>0</td>\n",
       "    </tr>\n",
       "    <tr>\n",
       "      <th>16</th>\n",
       "      <td>45</td>\n",
       "      <td>Jorhat</td>\n",
       "      <td>0</td>\n",
       "    </tr>\n",
       "    <tr>\n",
       "      <th>17</th>\n",
       "      <td>23</td>\n",
       "      <td>Duliajan</td>\n",
       "      <td>1</td>\n",
       "    </tr>\n",
       "    <tr>\n",
       "      <th>18</th>\n",
       "      <td>34</td>\n",
       "      <td>Duliajan</td>\n",
       "      <td>0</td>\n",
       "    </tr>\n",
       "    <tr>\n",
       "      <th>19</th>\n",
       "      <td>57</td>\n",
       "      <td>Delhi</td>\n",
       "      <td>1</td>\n",
       "    </tr>\n",
       "  </tbody>\n",
       "</table></div>"
      ],
      "text/plain": [
       "    age      city  default\n",
       "0    49    Jorhat        0\n",
       "1    36    Jorhat        1\n",
       "2    24  Duliajan        0\n",
       "3    52     Delhi        1\n",
       "4    25    Mumbai        1\n",
       "5    37     Delhi        1\n",
       "6    63  Duliajan        0\n",
       "7    70  Duliajan        1\n",
       "8    76  Duliajan        0\n",
       "9    67    Mumbai        1\n",
       "10   37  Duliajan        0\n",
       "11   75     Delhi        0\n",
       "12   74  Duliajan        1\n",
       "13   37     Delhi        0\n",
       "14   70    Mumbai        1\n",
       "15   43    Mumbai        0\n",
       "16   45    Jorhat        0\n",
       "17   23  Duliajan        1\n",
       "18   34  Duliajan        0\n",
       "19   57     Delhi        1"
      ]
     },
     "execution_count": 20,
     "metadata": {},
     "output_type": "execute_result"
    }
   ],
   "source": [
    "#Another way of looking into the data\n",
    "df=pd.DataFrame(data=mydata,columns=['age','city','default'])\n",
    "df"
   ]
  },
  {
   "cell_type": "code",
   "execution_count": 21,
   "id": "caac1d50",
   "metadata": {},
   "outputs": [
    {
     "data": {
      "text/html": [
       "<div><div id=05c27115-7d7d-40c3-b319-5b2af4c2a4ec style=\"display:none; background-color:#9D6CFF; color:white; width:200px; height:30px; padding-left:5px; border-radius:4px; flex-direction:row; justify-content:space-around; align-items:center;\" onmouseover=\"this.style.backgroundColor='#BA9BF8'\" onmouseout=\"this.style.backgroundColor='#9D6CFF'\" onclick=\"window.commands?.execute('create-mitosheet-from-dataframe-output');\">See Full Dataframe in Mito</div> <script> if (window.commands?.hasCommand('create-mitosheet-from-dataframe-output')) document.getElementById('05c27115-7d7d-40c3-b319-5b2af4c2a4ec').style.display = 'flex' </script> <table border=\"1\" class=\"dataframe\">\n",
       "  <thead>\n",
       "    <tr style=\"text-align: right;\">\n",
       "      <th></th>\n",
       "      <th>age</th>\n",
       "      <th>city</th>\n",
       "      <th>default</th>\n",
       "    </tr>\n",
       "  </thead>\n",
       "  <tbody>\n",
       "    <tr>\n",
       "      <th>0</th>\n",
       "      <td>16</td>\n",
       "      <td>Delhi</td>\n",
       "      <td>0</td>\n",
       "    </tr>\n",
       "    <tr>\n",
       "      <th>1</th>\n",
       "      <td>19</td>\n",
       "      <td>Delhi</td>\n",
       "      <td>1</td>\n",
       "    </tr>\n",
       "    <tr>\n",
       "      <th>2</th>\n",
       "      <td>56</td>\n",
       "      <td>Jorhat</td>\n",
       "      <td>1</td>\n",
       "    </tr>\n",
       "    <tr>\n",
       "      <th>3</th>\n",
       "      <td>47</td>\n",
       "      <td>Mumbai</td>\n",
       "      <td>1</td>\n",
       "    </tr>\n",
       "    <tr>\n",
       "      <th>4</th>\n",
       "      <td>60</td>\n",
       "      <td>Delhi</td>\n",
       "      <td>0</td>\n",
       "    </tr>\n",
       "    <tr>\n",
       "      <th>...</th>\n",
       "      <td>...</td>\n",
       "      <td>...</td>\n",
       "      <td>...</td>\n",
       "    </tr>\n",
       "    <tr>\n",
       "      <th>15</th>\n",
       "      <td>77</td>\n",
       "      <td>Mumbai</td>\n",
       "      <td>0</td>\n",
       "    </tr>\n",
       "    <tr>\n",
       "      <th>16</th>\n",
       "      <td>68</td>\n",
       "      <td>Duliajan</td>\n",
       "      <td>0</td>\n",
       "    </tr>\n",
       "    <tr>\n",
       "      <th>17</th>\n",
       "      <td>25</td>\n",
       "      <td>Duliajan</td>\n",
       "      <td>0</td>\n",
       "    </tr>\n",
       "    <tr>\n",
       "      <th>18</th>\n",
       "      <td>72</td>\n",
       "      <td>Duliajan</td>\n",
       "      <td>1</td>\n",
       "    </tr>\n",
       "    <tr>\n",
       "      <th>19</th>\n",
       "      <td>50</td>\n",
       "      <td>Mumbai</td>\n",
       "      <td>1</td>\n",
       "    </tr>\n",
       "  </tbody>\n",
       "</table></div>"
      ],
      "text/plain": [
       "    age      city  default\n",
       "0    16     Delhi        0\n",
       "1    19     Delhi        1\n",
       "2    56    Jorhat        1\n",
       "3    47    Mumbai        1\n",
       "4    60     Delhi        0\n",
       "5    54     Delhi        0\n",
       "6    59  Duliajan        1\n",
       "7    54    Jorhat        1\n",
       "8    16    Jorhat        1\n",
       "9    44    Mumbai        0\n",
       "10   60    Mumbai        0\n",
       "11   62    Mumbai        1\n",
       "12   51     Delhi        0\n",
       "13   60    Jorhat        0\n",
       "14   23     Delhi        0\n",
       "15   77    Mumbai        0\n",
       "16   68  Duliajan        0\n",
       "17   25  Duliajan        0\n",
       "18   72  Duliajan        1\n",
       "19   50    Mumbai        1"
      ]
     },
     "execution_count": 21,
     "metadata": {},
     "output_type": "execute_result"
    }
   ],
   "source": [
    "#clearer way to give columns names is to give by a dictionary\n",
    "df=pd.DataFrame({'age':age,'city':city,'default':default})\n",
    "df"
   ]
  },
  {
   "cell_type": "markdown",
   "id": "e5ccea22",
   "metadata": {},
   "source": [
    "Now we look at how to read fata from files in the system "
   ]
  },
  {
   "cell_type": "code",
   "execution_count": null,
   "id": "cf79a5f8",
   "metadata": {},
   "outputs": [],
   "source": []
  }
 ],
 "metadata": {
  "kernelspec": {
   "display_name": "Python 3 (ipykernel)",
   "language": "python",
   "name": "python3"
  },
  "language_info": {
   "codemirror_mode": {
    "name": "ipython",
    "version": 3
   },
   "file_extension": ".py",
   "mimetype": "text/x-python",
   "name": "python",
   "nbconvert_exporter": "python",
   "pygments_lexer": "ipython3",
   "version": "3.10.0"
  }
 },
 "nbformat": 4,
 "nbformat_minor": 5
}
